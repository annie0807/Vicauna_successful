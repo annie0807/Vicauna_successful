{
 "cells": [
  {
   "cell_type": "code",
   "execution_count": 26,
   "id": "5969ecb2-7d28-4322-bd39-a77799856cfc",
   "metadata": {},
   "outputs": [],
   "source": [
    "import torch\n",
    "test_pt = torch.load('wceptest_trunc.pt')\n",
    "# test_pt = torch.load('test_relabeled.pt')\n",
    "val_pt = torch.load('wcepvalid_trunc.pt')"
   ]
  },
  {
   "cell_type": "code",
   "execution_count": 10,
   "id": "a4418e48-174c-4e06-8f35-cc4b0bcfa7e3",
   "metadata": {},
   "outputs": [
    {
     "name": "stderr",
     "output_type": "stream",
     "text": [
      "[nltk_data] Downloading package punkt to /home/ethan/nltk_data...\n",
      "[nltk_data]   Package punkt is already up-to-date!\n"
     ]
    },
    {
     "data": {
      "text/plain": [
       "True"
      ]
     },
     "execution_count": 10,
     "metadata": {},
     "output_type": "execute_result"
    }
   ],
   "source": [
    "import nltk\n",
    "from nltk import word_tokenize\n",
    "import numpy as np\n",
    "nltk.download('punkt')"
   ]
  },
  {
   "cell_type": "code",
   "execution_count": 21,
   "id": "9c6fd8ad-1872-4343-a017-22d5995bc38d",
   "metadata": {},
   "outputs": [
    {
     "data": {
      "text/plain": [
       "str"
      ]
     },
     "execution_count": 21,
     "metadata": {},
     "output_type": "execute_result"
    }
   ],
   "source": [
    "type(test_pt[0]['document'])"
   ]
  },
  {
   "cell_type": "code",
   "execution_count": 23,
   "id": "20f17e9d-a4d8-46e7-846c-a3b49952a5c2",
   "metadata": {},
   "outputs": [
    {
     "data": {
      "text/plain": [
       "3284"
      ]
     },
     "execution_count": 23,
     "metadata": {},
     "output_type": "execute_result"
    }
   ],
   "source": [
    "len(word_tokenize(test_pt[0]['document']))"
   ]
  },
  {
   "cell_type": "code",
   "execution_count": 27,
   "id": "52681fbf-eb5a-4078-adc2-745c32a3e32b",
   "metadata": {},
   "outputs": [
    {
     "data": {
      "text/plain": [
       "4096"
      ]
     },
     "execution_count": 27,
     "metadata": {},
     "output_type": "execute_result"
    }
   ],
   "source": [
    "length = []\n",
    "for idx in range(len(val_pt)):\n",
    "    document = val_pt[idx]['document']\n",
    "    # summary = pt[idx]['summary']\n",
    "    # ln = word_tokenize(document)\n",
    "    ln = document.split()\n",
    "    length.append(len(ln))\n",
    "np.max(length)"
   ]
  },
  {
   "cell_type": "code",
   "execution_count": null,
   "id": "d31c78d8-494b-4133-8e82-d1afed298db0",
   "metadata": {},
   "outputs": [],
   "source": []
  }
 ],
 "metadata": {
  "kernelspec": {
   "display_name": "PRIMERA_cuda",
   "language": "python",
   "name": "primera_cuda"
  },
  "language_info": {
   "codemirror_mode": {
    "name": "ipython",
    "version": 3
   },
   "file_extension": ".py",
   "mimetype": "text/x-python",
   "name": "python",
   "nbconvert_exporter": "python",
   "pygments_lexer": "ipython3",
   "version": "3.8.10"
  }
 },
 "nbformat": 4,
 "nbformat_minor": 5
}
