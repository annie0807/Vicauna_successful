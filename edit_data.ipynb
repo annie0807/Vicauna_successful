{
 "cells": [
  {
   "cell_type": "code",
   "execution_count": 1,
   "id": "c88c443d-8767-480e-8c70-cbe4af3451d6",
   "metadata": {
    "tags": []
   },
   "outputs": [
    {
     "name": "stdout",
     "output_type": "stream",
     "text": [
      "/home/ethan/Documents/Quert/data/venv/bin/python3\n"
     ]
    }
   ],
   "source": [
    "!which python3"
   ]
  },
  {
   "cell_type": "code",
   "execution_count": 2,
   "id": "b155ff00-31e9-4372-84b6-812059fba72a",
   "metadata": {
    "tags": []
   },
   "outputs": [
    {
     "name": "stdout",
     "output_type": "stream",
     "text": [
      "/home/ethan/Documents/Quert/data/NetKu/full_content\n"
     ]
    }
   ],
   "source": [
    "%cd ~/Documents/Quert/data/NetKu/full_content/"
   ]
  },
  {
   "cell_type": "code",
   "execution_count": 5,
   "id": "10373847-985a-4246-ba52-b7a75ca5ee73",
   "metadata": {
    "tags": []
   },
   "outputs": [],
   "source": [
    "import torch\n",
    "import spacy\n",
    "import difflib\n",
    "import itertools\n",
    "import re\n",
    "import json\n",
    "import string\n",
    "import pycountry\n",
    "import pandas as pd"
   ]
  },
  {
   "cell_type": "code",
   "execution_count": 8,
   "id": "d087c63e-8667-4b79-9f9c-ba9c04094691",
   "metadata": {
    "tags": []
   },
   "outputs": [],
   "source": [
    "train_pt = torch.load('train.pt')\n",
    "test_pt = torch.load('test.pt')\n",
    "val_pt = torch.load('val.pt')"
   ]
  },
  {
   "cell_type": "code",
   "execution_count": 13,
   "id": "ecb103f6-fbc2-4567-be92-4ac9e0485ff7",
   "metadata": {},
   "outputs": [],
   "source": [
    "check_cands = train_pt[:100]\n",
    "torch.save(check_cands, 'check_cands.pt')"
   ]
  },
  {
   "cell_type": "code",
   "execution_count": 14,
   "id": "3447696c-eaaf-47c4-a09d-8c420e394040",
   "metadata": {},
   "outputs": [],
   "source": [
    "check_cands = torch.load('check_cands.pt')"
   ]
  },
  {
   "cell_type": "code",
   "execution_count": 5,
   "id": "000cc82a-0047-41f2-9e6b-0587222208da",
   "metadata": {
    "tags": []
   },
   "outputs": [],
   "source": [
    "def get_nlp():\n",
    "    nlp = None\n",
    "    spacy_package = 'en_core_web_sm'\n",
    "    if not nlp:\n",
    "        try:\n",
    "            nlp = spacy.load(spacy_package, disable=[\"tagger\" \"ner\"])\n",
    "        except:\n",
    "            import subprocess\n",
    "            print('downloading spacy...')\n",
    "            subprocess.run(\"python3 -m spacy download %s\" % spacy_package, shell=True)\n",
    "            nlp = spacy.load(spacy_package, disable=[\"tagger\" \"ner\"])\n",
    "    return nlp"
   ]
  },
  {
   "cell_type": "code",
   "execution_count": 3,
   "id": "c7e266de-94ca-42cc-9e82-64a162ff1a03",
   "metadata": {},
   "outputs": [],
   "source": [
    "nlp_ner = None\n",
    "def get_nlp_ner():\n",
    "    global nlp_ner\n",
    "    if not nlp_ner:\n",
    "        nlp_ner = spacy.load(spacy_package, disable=[\"tagger\"])  # just the parser\n",
    "    return nlp_ner"
   ]
  },
  {
   "cell_type": "code",
   "execution_count": 6,
   "id": "8ffc1ff0-dedd-4a45-be4d-8abdda7e6bad",
   "metadata": {
    "tags": []
   },
   "outputs": [],
   "source": [
    "to_filter = [\n",
    "    'Share on WhatsApp',\n",
    "    'Share on Messenger',\n",
    "    'Reuse this content',\n",
    "    'Share on LinkedIn',\n",
    "    'Share on Pinterest' ,\n",
    "    'Share on Google+',\n",
    "    'Listen /',\n",
    "    '– Politics Weekly',\n",
    "    'Sorry your browser does not support audio',\n",
    "    'https://flex.acast.com',\n",
    "    '|',\n",
    "    'Share on Facebook',\n",
    "    'Share on Twitter',\n",
    "    'Share via Email',\n",
    "    'Sign up to receive',\n",
    "    'This article is part of a series',\n",
    "    'Follow Guardian',\n",
    "    'Twitter, Facebook and Instagram',\n",
    "    'UK news news',\n",
    "    'Click here to upload it',\n",
    "    'Do you have a photo',\n",
    "    'Listen /',\n",
    "    'Email View',\n",
    "    'Read more Guardian',\n",
    "    'This series is',\n",
    "    'Readers can recommend ',\n",
    "    'UK news news',\n",
    "    'Join the debate',\n",
    "    'guardian.letters@theguardian.com',\n",
    "    'More information',\n",
    "    'Close',\n",
    "    'All our journalism is independent',\n",
    "    'is delivered to thousands of inboxes every weekday',\n",
    "    'with today’s essential stories',\n",
    "    'Newsflash:',\n",
    "    'You can read terms of service here',\n",
    "    'Guardian rating:',\n",
    "    'By clicking on an affiliate link',\n",
    "    'morning briefing news',\n",
    "    'Analysis:',\n",
    "    'Good morning, and welcome to our rolling coverage',\n",
    "    'South and Central Asia news',\n",
    "    'f you have a direct question',\n",
    "    'sign up to the',\n",
    "    'You can read terms of service here.',\n",
    "    'If you want to attract my attention quickly, it is probably better to use Twitter.',\n",
    "    'UK news',\n",
    "]\n",
    "to_filter = list(map(lambda x: x.lower(), to_filter))\n",
    "starts_with = [\n",
    "    'Updated ',\n",
    "    'Here’s the sign-up',\n",
    "    '[Read more on',\n",
    "    '[Here’s the list of',\n",
    "    '[Follow our live coverage',\n",
    "    '[',\n",
    "]\n",
    "contains = [\n",
    "    'Want to get this briefing by email',\n",
    "    'Thank youTo'\n",
    "]\n",
    "ends_with = [\n",
    "    ']',\n",
    "]\n",
    "last_line_re = re.compile('Currently monitoring (\\d|\\,)+ news articles')\n",
    "version_re = re.compile('Version \\d+ of \\d+')"
   ]
  },
  {
   "cell_type": "code",
   "execution_count": 7,
   "id": "c0da8803-06cc-48f0-9360-06ce9a95e501",
   "metadata": {
    "tags": []
   },
   "outputs": [],
   "source": [
    "## general res\n",
    "clean_escaped_html = re.compile('&lt;.*?&gt;')\n",
    "end_comma = re.compile(',$')\n",
    "stopwords = [\"i\", \"me\", \"my\", \"myself\", \"we\", \"our\", \"ours\", \"ourselves\", \"you\", \"your\", \"yours\", \"yourself\",\n",
    "             \"yourselves\", \"he\", \"him\", \"his\", \"himself\", \"she\", \"her\", \"hers\", \"herself\", \"it\", \"its\", \"itself\",\n",
    "             \"they\",\n",
    "             \"them\", \"their\", \"theirs\", \"themselves\", \"what\", \"which\", \"who\", \"whom\", \"this\", \"that\", \"these\", \"those\",\n",
    "             \"am\",\n",
    "             \"is\", \"are\", \"was\", \"were\", \"be\", \"been\", \"being\", \"have\", \"has\", \"had\", \"having\", \"do\", \"does\", \"did\",\n",
    "             \"doing\",\n",
    "             \"a\", \"an\", \"the\", \"and\", \"but\", \"if\", \"or\", \"because\", \"as\", \"until\", \"while\", \"of\", \"at\", \"by\", \"for\",\n",
    "             \"with\",\n",
    "             \"about\", \"against\", \"between\", \"into\", \"through\", \"during\", \"before\", \"after\", \"above\", \"below\", \"to\",\n",
    "             \"from\",\n",
    "             \"up\", \"down\", \"in\", \"out\", \"on\", \"off\", \"over\", \"under\", \"again\", \"further\", \"then\", \"once\", \"here\",\n",
    "             \"there\",\n",
    "             \"when\", \"where\", \"why\", \"how\", \"all\", \"any\", \"both\", \"each\", \"few\", \"more\", \"most\", \"other\", \"some\",\n",
    "             \"such\",\n",
    "             \"no\", \"nor\", \"not\", \"only\", \"own\", \"same\", \"so\", \"than\", \"too\", \"very\", \"can\", \"will\", \"just\", \"should\",\n",
    "             \"now\"]\n",
    "stopwords_lemmas = list(set(map(lambda x: x.lemma_, get_nlp()(' '.join(stopwords)))))\n",
    "## lambdas\n",
    "filter_sents = lambda x: not (\n",
    "    any(map(lambda y: y in x, contains)) or\n",
    "    any(map(lambda y: x.startswith(y), starts_with)) or\n",
    "    any(map(lambda y: x.endswith(y), ends_with))\n",
    ")"
   ]
  },
  {
   "cell_type": "code",
   "execution_count": 8,
   "id": "1499ca31-4fb5-4089-a318-18a5bf7ed7ec",
   "metadata": {
    "tags": []
   },
   "outputs": [],
   "source": [
    "def get_words(s, split_method='spacy'):\n",
    "    if split_method == 'spacy':\n",
    "        return list(map(lambda x: x.text, get_nlp()(s)))\n",
    "    else:\n",
    "        return s.split()\n",
    "\n",
    "get_lemmas = lambda s: list(map(lambda x: x.lemma_.lower(), get_nlp()(s)))\n",
    "filter_stopword_lemmas = lambda word_list: list(filter(lambda x: x not in stopwords_lemmas, word_list))\n",
    "filter_punct = lambda word_list: list(filter(lambda x: x not in string.punctuation, word_list))\n"
   ]
  },
  {
   "cell_type": "code",
   "execution_count": 9,
   "id": "6505a490-de33-4c1c-846f-bd09ed2b36dc",
   "metadata": {
    "tags": []
   },
   "outputs": [],
   "source": [
    "# Convert string into pars -> do filtering than convert back to string format\n",
    "def filter_lines(a):\n",
    "    if isinstance(a, list):\n",
    "        pars = a\n",
    "    else:\n",
    "        # pars = a.split('</p>')\n",
    "        pars = a.split('\\n\\n')\n",
    "    output = []\n",
    "    for p in pars:\n",
    "        if not any(map(lambda x: x in p.lower(), to_filter)):\n",
    "            output.append(p)\n",
    "    if isinstance(a, list):\n",
    "        return output\n",
    "    else:\n",
    "        return '\\n\\n'.join(output)"
   ]
  },
  {
   "cell_type": "code",
   "execution_count": 10,
   "id": "4938cc2b-c7fc-4a77-a511-89cf7cae3812",
   "metadata": {
    "tags": []
   },
   "outputs": [],
   "source": [
    "def is_dateline(x):\n",
    "    ## is short enough\n",
    "    length = len(x.split()) < 6\n",
    "    # has a country name\n",
    "    # 1. Does it have an uppercase word?\n",
    "    has_gpe = any(map(lambda x: x.isupper(), x.split()))\n",
    "    # 2. Is there a country name?\n",
    "    if not has_gpe:\n",
    "        for word in get_words(x):\n",
    "            try:\n",
    "                pycountry.countries.search_fuzzy(word)\n",
    "                has_gpe = True\n",
    "                break\n",
    "            except LookupError:\n",
    "                has_gpe = False\n",
    "    # 3. Is there a GPE?\n",
    "    if not has_gpe:\n",
    "        doc = get_nlp_ner()(x)\n",
    "        for ent in doc.ents:\n",
    "            if ent.label_ == 'PERSON':\n",
    "                has_gpe = True\n",
    "    ##\n",
    "    if length and has_gpe:\n",
    "        return True\n",
    "    else:\n",
    "        return False\n"
   ]
  },
  {
   "cell_type": "code",
   "execution_count": 11,
   "id": "54130984-0c40-4c37-962a-a33ba7f42b06",
   "metadata": {
    "tags": []
   },
   "outputs": [],
   "source": [
    "# Split into sentences\n",
    "def split_sents(a, perform_filter=True):\n",
    "    nlp = get_nlp()\n",
    "    output_sents = []\n",
    "\n",
    "    # deal with dateline (this can really mess things up...)\n",
    "    dateline_dashes = ['—', '–']\n",
    "    for d in dateline_dashes:\n",
    "        dateline = a.split(d)[0]\n",
    "        if is_dateline(dateline): ## find the dateline\n",
    "            ## dateline.\n",
    "            output_sents.append(dateline.strip())\n",
    "            ## all other sentences.\n",
    "            a = d.join(a.split(d)[1:]).strip()\n",
    "            break\n",
    "\n",
    "    # get sentences from each paragraph\n",
    "    # pars = a.split('.\\n\\n')\n",
    "    # get pars, then read the sentences from each par\n",
    "    pars = a.split('.\\n\\n')\n",
    "    for p in pars:\n",
    "        doc = nlp(p)\n",
    "        sents = list(map(lambda x: x.text, doc.sents))\n",
    "        output_sents += sents\n",
    "\n",
    "    \n",
    "    # filter out garbage/repetitive sentences\n",
    "    if perform_filter:\n",
    "        output_sents = filter_lines(output_sents)\n",
    "\n",
    "    # last-minute processing\n",
    "    output_sents = list(map(lambda x: x.strip(), output_sents))\n",
    "\n",
    "    # merge dateline in with the first sentence\n",
    "    if len(output_sents) > 0:\n",
    "        if is_dateline(output_sents[0]):\n",
    "            output_sents = ['—'.join(output_sents[:2])] + output_sents[2:]\n",
    "    # output_sents = '.\\n\\n'.join(output_sents)\n",
    "    return output_sents\n"
   ]
  },
  {
   "cell_type": "code",
   "execution_count": 12,
   "id": "0661f20a-d523-4d84-9903-8cfa48e58b22",
   "metadata": {
    "tags": []
   },
   "outputs": [],
   "source": [
    "# # Running split_sents to docs of each cluster\n",
    "# splitted_docs = []\n",
    "# for idx in range(len(test_pt)):\n",
    "#      splitted_docs.append(split_sents(test_pt[idx]['document'][0]))"
   ]
  },
  {
   "cell_type": "code",
   "execution_count": 13,
   "id": "6b9df033-924e-404e-8461-9b0ebdf173af",
   "metadata": {
    "tags": []
   },
   "outputs": [],
   "source": [
    "# len(splitted_docs)"
   ]
  },
  {
   "cell_type": "markdown",
   "id": "fadd4e62-9479-40f0-bcdc-9e1c67a486c1",
   "metadata": {
    "tags": []
   },
   "source": [
    "**Now we have the splitted_docs saves the splitted sentences from each cluster in order**"
   ]
  },
  {
   "cell_type": "markdown",
   "id": "649e1247-bc30-47d8-ad50-7640b248578c",
   "metadata": {},
   "source": [
    "### Get the diff"
   ]
  },
  {
   "cell_type": "code",
   "execution_count": 14,
   "id": "df141d41-7c4a-48a4-932f-e8ed845afc2a",
   "metadata": {},
   "outputs": [
    {
     "name": "stdout",
     "output_type": "stream",
     "text": [
      "['- I got the pencil.\\n', '+ I got thes pencil.\\n', '?          +\\n', '  \\n', '- But that is not mine.', '+ But I think that is belong to Leo.']\n"
     ]
    }
   ],
   "source": [
    "# diff = difflib.ndiff('one\\ntwo\\nthree\\n'.splitlines(keepends=True), # one\\ntwo\\nthree\\n\n",
    "#              'ore\\ntno\\nemu\\n'.splitlines(keepends=True))          # ore\\ntno\\nemu\\n\n",
    "\n",
    "# print(''.join(diff), end=\"\")\n",
    "# print('-----')\n",
    "\n",
    "# diff = list(difflib.ndiff('one\\ntwo\\nthree\\n'.splitlines(keepends=True), # one\\ntwo\\nthree\\n\n",
    "#              'ore\\ntree\\nemu\\n'.splitlines(keepends=True)))          # ore\\ntree\\nemu\\n\n",
    "\n",
    "diff = list(difflib.ndiff('I got the pencil.\\n\\nBut that is not mine.'.splitlines(keepends=True), # one\\ntwo\\nthree\\n\n",
    "             'I got thes pencil.\\n\\nBut I think that is belong to Leo.'.splitlines(keepends=True))) # ore\\ntree\\nemu\\n\n",
    "\n",
    "# print(''.join(diff), end=\"\")\n",
    "\n",
    "print(list(diff))\n"
   ]
  },
  {
   "cell_type": "code",
   "execution_count": 15,
   "id": "2ace1c24-5587-47d1-ba51-29190019c025",
   "metadata": {},
   "outputs": [],
   "source": [
    "# from difflib import ndiff\n",
    "# def modify(src, tgt): # take src in list format, tgt in str format\n",
    "#     src = '\\n\\n'.join(src) # idx is under waiting\n",
    "#     input_docs = src.replace('..\\n\\n', '.\\n\\n') # deal with 's, s, \\s\n",
    "#     input_docs = input_docs.replace(\"'s\", \"s\")\n",
    "#     input_docs = input_docs.replace(\"\\\\\", \"\")\n",
    "#     input_docs = input_docs.strip()\n",
    "#     input_summ = tgt.replace('\\\\\\\\c', '\\n\\n')\n",
    "#     input_summ = input_summ.replace(\"\\\\\\'s\", \"'s\")\n",
    "#     input_summ = input_summ.replace(\"\\'s\", \"s\")\n",
    "#     input_summ = input_summ.replace(\"\\\\\\'\", \"\")\n",
    "#     input_summ = input_summ.strip()\n",
    "#     return input_docs, input_summ"
   ]
  },
  {
   "cell_type": "code",
   "execution_count": 16,
   "id": "58bb453c-1a7b-4260-b8b3-5da50362b201",
   "metadata": {},
   "outputs": [],
   "source": [
    "# docs, summs = [], []\n",
    "# for idx in range(len(val_pt)):\n",
    "#     doc = val_pt[idx]['document']\n",
    "#     summ = val_pt[idx]['summary']\n",
    "#     modified_doc, modified_summ = modify(doc, summ)\n",
    "#     docs.append(modified_doc)\n",
    "#     summs.append(modified_summ)\n",
    "# assert len(docs)==len(summs)\n",
    "# print(len(docs))"
   ]
  },
  {
   "cell_type": "code",
   "execution_count": 17,
   "id": "4ded80a3-c609-4fa5-869a-b724161074da",
   "metadata": {},
   "outputs": [],
   "source": [
    "# # Output the processed .pt\n",
    "# wrap = []\n",
    "# # src_strs = output_str.copy()\n",
    "\n",
    "# for idx in range(len(docs)):\n",
    "#     idx_content = {}\n",
    "#     idx_content['document'] = docs[idx]\n",
    "#     idx_content['summary'] = summs[idx]\n",
    "#     wrap.append(idx_content)\n",
    "# torch.save(wrap, 'processed_val.pt')\n",
    "# pro_pt = torch.load('processed_val.pt')\n",
    "# print(len(pro_pt))"
   ]
  },
  {
   "cell_type": "code",
   "execution_count": 12,
   "id": "8be09947-56dd-4308-ad1c-2b195f223d9d",
   "metadata": {},
   "outputs": [],
   "source": [
    "def get_word_diff_ratio(s_old, s_new):\n",
    "    s_old_words, s_new_words = get_words(s_old), get_words(s_new)\n",
    "    return difflib.SequenceMatcher(None, s_old_words, s_new_words).ratio()"
   ]
  },
  {
   "cell_type": "code",
   "execution_count": 15,
   "id": "32d097e8-d94b-4029-8b15-0a43718baf39",
   "metadata": {
    "tags": []
   },
   "outputs": [],
   "source": [
    "# def get_list_diff(l_old, l_new):\n",
    "#     vars_old = []\n",
    "#     vars_new = []\n",
    "#     diffs = list(difflib.ndiff(l_old, l_new))\n",
    "#     in_question = False\n",
    "#     for idx, item in enumerate(diffs):\n",
    "#         label, text = item[0], item[2:]\n",
    "#         if label == '?':\n",
    "#             continue\n",
    "#         # Add the function to compute matching ratio here: similar as below\n",
    "#         if label == '-':\n",
    "#             vars_old.append({\n",
    "#                 'text': text,\n",
    "#                 'tag': '-'\n",
    "#             })\n",
    "#             if (\n",
    "#                     ## if something is removed from the old sentnece, a '?' will be present in the next idx\n",
    "#                     ((idx < len(diffs) - 1) and (diffs[idx + 1][0] == '?'))\n",
    "#                     ## if NOTHING is removed from the old sentence, a '?' might still be present in 2 idxs, unless the next sentence is a - as well.\n",
    "#                  or ((idx < len(diffs) - 2) and (diffs[idx + 2][0] == '?') and diffs[idx + 1][0] != '-')\n",
    "#             ):\n",
    "#                 in_question = True\n",
    "#                 continue\n",
    "\n",
    "#             ## test if the sentences are substantially similar, but for some reason ndiff marked them as different.\n",
    "#             if (idx < len(diffs) - 1) and (diffs[idx + 1][0] == '+'):\n",
    "#                 _, text_new = diffs[idx + 1][0], diffs[idx + 1][2:]\n",
    "#                 if get_word_diff_ratio(text, text_new) > .9:\n",
    "#                     in_question = True\n",
    "#                     vars_new.append({\n",
    "#                         'text': '',\n",
    "#                         'tag': ' '\n",
    "#                     })\n",
    "#         # output_ratio = []\n",
    "#         if label == '+': # and the matching ratio<.5, tag with \"*\"\n",
    "#             # if label=='+' and the matching ratio is between .5 and .9, tag with '*'.\n",
    "#             # aka [SUB]\n",
    "#             text_old, text_new = diffs[idx-1][2:], diffs[idx][2:] # possible problems here \n",
    "#             ratio = get_word_diff_ratio(text_old, text_new)\n",
    "#             if ratio >= .8:\n",
    "#                 vars_old.append({\n",
    "#                     'text':'',\n",
    "#                     'tag': ' '\n",
    "#                     })\n",
    "#                 vars_new.append({\n",
    "#                     'text': text_new,\n",
    "#                     'tag': ' ' # keep\n",
    "#                     })\n",
    "#             elif ratio <= .3:\n",
    "#                 vars_old.append({\n",
    "#                     'text':'',\n",
    "#                     'tag': ' '\n",
    "#                     })\n",
    "#                 vars_new.append({\n",
    "#                     'text': text_new,\n",
    "#                     'tag': '+' # add\n",
    "#                     })\n",
    "#             else:\n",
    "#                 vars_old.append({\n",
    "#                     'text':'',\n",
    "#                     'tag': ' '\n",
    "#                     })\n",
    "#                 vars_new.append({\n",
    "#                     'text': text_new,\n",
    "#                     'tag': '*' # sub\n",
    "#                     })\n",
    "#     return vars_old, vars_new "
   ]
  },
  {
   "cell_type": "code",
   "execution_count": 13,
   "id": "090e4b6b-6322-41ba-91d1-0c81211187d1",
   "metadata": {},
   "outputs": [],
   "source": [
    "def get_list_diff(l_old, l_new):\n",
    "    vars_old = []\n",
    "    vars_new = []\n",
    "    diffs = list(difflib.ndiff(l_old, l_new))\n",
    "    in_question = False\n",
    "    for idx, item in enumerate(diffs):\n",
    "        label, text = item[0], item[2:]\n",
    "        if label == '?':\n",
    "            continue\n",
    "\n",
    "        elif label == '-':\n",
    "            vars_old.append({\n",
    "                'text': text,\n",
    "                'tag': '-'\n",
    "            })\n",
    "            if (\n",
    "                    ## if something is removed from the old sentnece, a '?' will be present in the next idx\n",
    "                    ((idx < len(diffs) - 1) and (diffs[idx + 1][0] == '?'))\n",
    "                    ## if NOTHING is removed from the old sentence, a '?' might still be present in 2 idxs, unless the next sentence is a - as well.\n",
    "                 or ((idx < len(diffs) - 2) and (diffs[idx + 2][0] == '?') and diffs[idx + 1][0] != '-')\n",
    "            ):\n",
    "                in_question = True\n",
    "                continue\n",
    "\n",
    "            ## test if the sentences are substantially similar, but for some reason ndiff marked them as different.\n",
    "            if (idx < len(diffs) - 1) and (diffs[idx + 1][0] == '+'):\n",
    "                _, text_new = diffs[idx + 1][0], diffs[idx + 1][2:]\n",
    "                if get_word_diff_ratio(text, text_new) > .9:\n",
    "                    in_question = True\n",
    "                    continue\n",
    "\n",
    "            vars_new.append({\n",
    "                'text': '',\n",
    "                'tag': ''\n",
    "            })\n",
    "\n",
    "\n",
    "        elif label == '+':\n",
    "            old_text, new_text = diffs[idx-2][2:], diffs[idx][2:]\n",
    "            sents_ratio = get_word_diff_ratio(old_text, new_text) \n",
    "            \n",
    "            if sents_ratio >= .8:\n",
    "                vars_new.append({\n",
    "                    'text': new_text,\n",
    "                    'tag': ' '\n",
    "                })\n",
    "            elif sents_ratio < .3:\n",
    "                vars_new.append({\n",
    "                    'text': new_text,\n",
    "                    'tag': '+'\n",
    "                })\n",
    "            else:\n",
    "                vars_new.append({\n",
    "                    'text': new_text,\n",
    "                    'tag': '*'\n",
    "                })\n",
    "            # if in_question:\n",
    "            #     in_question = False\n",
    "            # else:\n",
    "            #     vars_old.append({\n",
    "            #         'text':'',\n",
    "            #         'tag': ' '\n",
    "            #     })\n",
    "        else:\n",
    "            vars_old.append({\n",
    "                'text': text,\n",
    "                'tag': ' '\n",
    "            })\n",
    "            vars_new.append({\n",
    "                'text': text,\n",
    "                'tag': ' '\n",
    "            })\n",
    "\n",
    "    return vars_old, vars_new"
   ]
  },
  {
   "cell_type": "code",
   "execution_count": 32,
   "id": "11dd23b2-88aa-4829-877f-855b2620f741",
   "metadata": {},
   "outputs": [
    {
     "data": {
      "text/plain": [
       "0.8705882352941177"
      ]
     },
     "execution_count": 32,
     "metadata": {},
     "output_type": "execute_result"
    }
   ],
   "source": [
    "# import difflib\n",
    "# old_text = ['See the above main articles for much more info, and for casualty numbers for coalition nations, contractors, non-Iraqi civilians, journalists, media helpers, aid workers, wounded, etc.. Casualty figures, especially Iraqi ones, are highly disputed.']\n",
    "# # new_text = ['By the end of the spring uprising, the cities of Fallujah, Samarra, Baquba, and Ramadi had been left under guerrilla control with coalition patrols in the cities at a minimum.']\n",
    "\n",
    "# new_text = ['See the above main articles for much more info, and for casualty numbers for coalition nations, contractors, non-Iraqi civilians, journalists, media helpers, aid workers, wounded, etc.']\n",
    "# # lst = list(difflib.ndiff(old_text, new_text))\n",
    "# # lst\n",
    "# get_word_diff_ratio(old_text[0], new_text[0])\n",
    "# # len(lst)"
   ]
  },
  {
   "cell_type": "code",
   "execution_count": 14,
   "id": "9dacbc59-a8c6-4ba4-b68c-c86593f1657a",
   "metadata": {},
   "outputs": [],
   "source": [
    "def cluster_edits(vo, vn):\n",
    "    clustered_edits = []\n",
    "    current_cluster = []\n",
    "    for o, n in list(zip(vo, vn)):\n",
    "        if (o['tag'] in ['+', '-']) or (n['tag'] in ['+', '-']):\n",
    "            current_cluster.append((o, n))\n",
    "        ##\n",
    "        if o['tag'] == ' ' and n['tag'] == ' ':\n",
    "            if len(current_cluster) > 0:\n",
    "                clustered_edits.append(current_cluster)\n",
    "                current_cluster = []\n",
    "            clustered_edits.append([(o, n)])\n",
    "    if len(current_cluster) > 0:\n",
    "        clustered_edits.append(current_cluster)\n",
    "    return clustered_edits"
   ]
  },
  {
   "cell_type": "code",
   "execution_count": 15,
   "id": "e1915414-6f01-4a77-91c4-0e0a8b12d384",
   "metadata": {},
   "outputs": [],
   "source": [
    "def merge_sents(idx_i, idx_j, a, c):\n",
    "    \"\"\"Merges two sentences without spacing errors.\"\"\"\n",
    "    si_text = c[idx_i][a]['text']\n",
    "    sj_text = c[idx_j][a]['text']\n",
    "\n",
    "    if isinstance(si_text, (list, tuple)):\n",
    "        output_list = list(si_text)\n",
    "    else:\n",
    "        output_list = [(idx_i, si_text)]\n",
    "    if isinstance(sj_text, (list, tuple)):\n",
    "        output_list += sj_text\n",
    "    else:\n",
    "        output_list.append((idx_j, sj_text))\n",
    "    return output_list"
   ]
  },
  {
   "cell_type": "code",
   "execution_count": 16,
   "id": "0ec211fa-f914-4140-bb29-f0e0e8a9279b",
   "metadata": {},
   "outputs": [],
   "source": [
    "def merge_sents_list(t):\n",
    "    t = sorted(t, key=lambda x: x[0])\n",
    "    t = list(map(lambda x: x[1].strip(), t))\n",
    "    t = ' '.join(t)\n",
    "    return ' '.join(t.split())"
   ]
  },
  {
   "cell_type": "code",
   "execution_count": 17,
   "id": "828f122a-8756-497a-86e4-aa8df4e48116",
   "metadata": {},
   "outputs": [],
   "source": [
    "def text_in_interval(c, idx_i, idx_j, version):\n",
    "    idx_small, idx_large = min([idx_i, idx_j]), max([idx_i, idx_j])\n",
    "    return any(map(lambda idx: c[idx][version]['text'].strip() != '',  range(idx_small+1, idx_large)))"
   ]
  },
  {
   "cell_type": "code",
   "execution_count": 18,
   "id": "577a8a11-754b-4b18-b590-ffd6f6b80e72",
   "metadata": {},
   "outputs": [],
   "source": [
    "def lemmatize_sentence(s, cache):\n",
    "    if isinstance(s, str) and s in cache:\n",
    "        return cache[s], cache\n",
    "    if isinstance(s, list):\n",
    "        s = merge_sents_list(s)\n",
    "    s_lemmas = get_lemmas(s)\n",
    "    s_lemmas = filter_stopword_lemmas(s_lemmas)\n",
    "    s_lemmas = filter_punct(s_lemmas)\n",
    "    cache[s] = s_lemmas\n",
    "    return cache[s], cache"
   ]
  },
  {
   "cell_type": "code",
   "execution_count": 19,
   "id": "a606277f-c1a3-4f6c-940e-6467ccfa843b",
   "metadata": {},
   "outputs": [],
   "source": [
    "def check_subset(s1_lemmas, s2_lemmas, slack=.5):\n",
    "    \"\"\"Checks if the second sentence is nearly a subset of the first, with up to `slack` words different.\"\"\"\n",
    "    ### get all text (might be a list).\n",
    "    if len(s2_lemmas) > len(s1_lemmas):\n",
    "        return False\n",
    "    if len(s2_lemmas) > 50:\n",
    "        return False\n",
    "    ### check match.\n",
    "    matches = sum(map(lambda word: word in s1_lemmas, s2_lemmas))\n",
    "    return matches >= (len(s2_lemmas) * (1 - slack))"
   ]
  },
  {
   "cell_type": "code",
   "execution_count": 20,
   "id": "4ef6b5ab-7302-4812-b200-20438685e985",
   "metadata": {},
   "outputs": [],
   "source": [
    "def swap_text_spots(c, old_spot_idx, new_spot_idx, version):\n",
    "    ## swap text\n",
    "    text_old = c[old_spot_idx][version]['text']\n",
    "    text_new = c[new_spot_idx][version]['text']\n",
    "    c[new_spot_idx][version]['text'] = text_old\n",
    "    c[old_spot_idx][version]['text'] = text_new\n",
    "    ## swap tags\n",
    "    tag_new = c[new_spot_idx][version]['tag']\n",
    "    tag_old = c[old_spot_idx][version]['tag']\n",
    "    c[new_spot_idx][version]['tag'] = tag_old\n",
    "    c[old_spot_idx][version]['tag'] = tag_new\n",
    "    return c"
   ]
  },
  {
   "cell_type": "code",
   "execution_count": 21,
   "id": "f92ec9bf-6619-4e14-9e33-d8f8a9a71dc0",
   "metadata": {},
   "outputs": [],
   "source": [
    "import copy\n",
    "def merge_cluster(c, slack=.5):\n",
    "    c = list(filter(lambda x: x[0]['text'] != '' or x[1]['text'] != '', c))\n",
    "    old_c = copy.deepcopy(c)\n",
    "    r_c = range(len(c))\n",
    "    keep_going = True\n",
    "    loop_idx = 0\n",
    "    cache = {}\n",
    "\n",
    "    while keep_going:\n",
    "        for active_version in [0, 1]:\n",
    "            inactive_version = abs(active_version - 1)\n",
    "            for idx_i, idx_j in itertools.product(r_c, r_c):\n",
    "                # [(0, 0), (0, 1), (1, 0), (1, 1)]\n",
    "                idx_i, idx_j = (idx_i, idx_j) if active_version == 0 else (idx_j, idx_i)\n",
    "                if (\n",
    "                        (idx_i != idx_j)\n",
    "                        and (c[idx_j][active_version]['text'] != '')\n",
    "                        # and (c[idx_j][inactive_version]['text'] == '')\n",
    "                        and (c[idx_i][inactive_version]['text'] != '')\n",
    "                ):\n",
    "\n",
    "                    # print('active: %s, idx_i: %s, idx_j: %s' % (active_version, idx_i, idx_j))\n",
    "                    s1_lemmas, cache = lemmatize_sentence(c[idx_i][inactive_version]['text'], cache)\n",
    "                    s2_lemmas, cache = lemmatize_sentence(c[idx_j][active_version]['text'], cache)\n",
    "                    if check_subset(s1_lemmas, s2_lemmas, slack=slack):\n",
    "                        # if there's a match, first check:\n",
    "                        combined_text_active = merge_sents(idx_i, idx_j, active_version, c)\n",
    "                        combined_text_inactive = merge_sents(idx_i, idx_j, inactive_version, c)\n",
    "                        c[idx_j][active_version]['text'] = combined_text_active\n",
    "                        c[idx_i][active_version]['text'] = ''\n",
    "                        c[idx_i][inactive_version]['text'] = combined_text_inactive\n",
    "                        c[idx_j][inactive_version]['text'] = ''\n",
    "                        # print('FOUND')\n",
    "                        # print(c)\n",
    "                        # print('active: %s, idx_i: %s, idx_j: %s' % (active_version, idx_i, idx_j))\n",
    "\n",
    "                        #    1. if the two idx's are adjacent, then move the active.\n",
    "                        if abs(idx_i - idx_j) == 1:\n",
    "                            # print('1.')\n",
    "                            c = swap_text_spots(c, new_spot_idx=idx_i, old_spot_idx=idx_j, version=active_version)\n",
    "\n",
    "                        #    2. if there's both >=1 active AND >=1 inactive in between, don't do anything.\n",
    "                        elif text_in_interval(c, idx_i, idx_j, active_version) and text_in_interval(c, idx_i, idx_j, inactive_version):\n",
    "                            # print('2.')\n",
    "                            pass\n",
    "\n",
    "                        #    3. if there's text in the active version between the two idx's, move the inactive.\n",
    "                        elif text_in_interval(c, idx_i, idx_j, active_version):\n",
    "                            # print('3.')\n",
    "                            c = swap_text_spots(c, new_spot_idx=idx_j, old_spot_idx=idx_i, version=inactive_version)\n",
    "\n",
    "                        #    4. if there's text in the inactive in between the two idx's, move the active.\n",
    "                        elif text_in_interval(c, idx_i, idx_j, inactive_version):\n",
    "                            # print('4.')\n",
    "                            c = swap_text_spots(c, new_spot_idx=idx_i, old_spot_idx=idx_j, version=active_version)\n",
    "\n",
    "                        #   5. if there's no text inbetween the idx's in either the active or the inactive, move the active.\n",
    "                        elif not (\n",
    "                                text_in_interval(c, idx_i, idx_j, active_version) and\n",
    "                                text_in_interval(c, idx_i, idx_j, inactive_version)\n",
    "                        ):\n",
    "                            # print('5.')\n",
    "                            c = swap_text_spots(c, new_spot_idx=idx_i, old_spot_idx=idx_j, version=active_version)\n",
    "\n",
    "                        ## merge list/text\n",
    "                        for idx, version in itertools.product([idx_i, idx_j], [active_version, inactive_version]):\n",
    "                            if isinstance(c[idx][version]['text'], list):\n",
    "                                c[idx][version]['text'] = merge_sents_list(c[idx][version]['text'])\n",
    "\n",
    "        ## one more merge for safety\n",
    "        for idx, version in itertools.product(r_c, [active_version, inactive_version]):\n",
    "            if isinstance(c[idx][version]['text'], list):\n",
    "                c[idx][version]['text'] = merge_sents_list(c[idx][version]['text'])\n",
    "\n",
    "        if (c == old_c) or (loop_idx > 10000):\n",
    "            # print('done, idx: %s' % loop_idx)\n",
    "            keep_going = False\n",
    "            loop_idx = 0\n",
    "        else:\n",
    "            loop_idx += 1\n",
    "            # print('one more')\n",
    "            old_c = copy.deepcopy(c)\n",
    "\n",
    "    return c"
   ]
  },
  {
   "cell_type": "code",
   "execution_count": 22,
   "id": "f14bcb6a-b6a4-4b96-9c91-d3e39c384186",
   "metadata": {},
   "outputs": [],
   "source": [
    "def merge_all_clusters(vo, vn, slack=.5):\n",
    "    clustered_edits = cluster_edits(vo, vn)\n",
    "    output_edits = []\n",
    "    for c in clustered_edits:\n",
    "        if len(c) == 1:\n",
    "            c_i = c[0]\n",
    "            if not (c_i[0]['text'] == '' and c_i[1]['text'] == ''):\n",
    "                output_edits.append(c_i)\n",
    "        else:\n",
    "            c_new = merge_cluster(c, slack=slack)\n",
    "            for c_i in c_new:\n",
    "                if not (c_i[0]['text'] == '' and c_i[1]['text'] == ''):\n",
    "                    output_edits.append(c_i)\n",
    "\n",
    "    if len(output_edits) == 0:\n",
    "        return None, None\n",
    "\n",
    "    return zip(*output_edits)"
   ]
  },
  {
   "cell_type": "code",
   "execution_count": 23,
   "id": "682c4095-63a9-4392-aa87-b6e1e9a0e607",
   "metadata": {
    "tags": []
   },
   "outputs": [],
   "source": [
    "def get_sentence_diff(a_old, a_new, filter_common_sents=True, merge_clusters=True, slack=.5):\n",
    "    ## split sentences\n",
    "    a_old_sents = split_sents(a_old)\n",
    "    a_new_sents = split_sents(a_new)\n",
    "    if filter_common_sents:\n",
    "        a_old_sents = list(filter(filter_sents, a_old_sents))\n",
    "        a_new_sents = list(filter(filter_sents, a_new_sents))\n",
    "    ## group list\n",
    "    vers_old, vers_new = get_list_diff(a_old_sents, a_new_sents)\n",
    "    ## fix errors/ align sentences\n",
    "    if merge_clusters:\n",
    "        vers_old, vers_new = merge_all_clusters(vers_old, vers_new, slack=slack)\n",
    "    return vers_old, vers_new "
   ]
  },
  {
   "cell_type": "code",
   "execution_count": 24,
   "id": "62fea3d2-9633-41d2-ac54-86f623c780d2",
   "metadata": {},
   "outputs": [],
   "source": [
    "def addMark(src):\n",
    "    input_docs = src.replace('\\n\\n', '\\n\\n#####')\n",
    "    input_docs = input_docs.replace('[citation needed]', '')\n",
    "    return input_docs\n",
    "\n",
    "def fixMark(src):\n",
    "    # input_docs = src.replace('\\n\\n', '.\\n\\n')\n",
    "    input_docs = src.replace('#####', '.\\n\\n')\n",
    "    return input_docs\n"
   ]
  },
  {
   "cell_type": "code",
   "execution_count": 32,
   "id": "ae996a9f-57b9-412a-82d6-7ad6c2b0cc8f",
   "metadata": {},
   "outputs": [
    {
     "name": "stdout",
     "output_type": "stream",
     "text": [
      "({'text': 'Hugo Rafael Chávez Frías (IPA: ) (born July 28, 1954) is the 53rd and current President of Venezuela.', 'tag': ' '}, {'text': 'As the leader of the \"Bolivarian Revolution,\" Chávez promotes his vision of democratic socialism, Latin American integration, and anti-imperialism.', 'tag': '+'}, {'text': 'He is also an ardent critic of neoliberal globalization and  US foreign policy', 'tag': ' '}, {'text': 'A career military officer, Chávez founded the leftist Fifth Republic Movement after orchestrating a failed 1992 coup détat against former president Carlos Andrés Pérez.', 'tag': ' '}, {'text': 'Chávez was elected President in 1998 on promises of aiding Venezuelas poor majority, and was reelected in 2000.', 'tag': ' '}, {'text': 'Domestically, Chávez has launched massive Bolivarian Missions, whose goals are to combat disease, illiteracy, malnutrition, poverty, and other social ills.', 'tag': ' '}, {'text': 'Abroad, Chávez has acted against the Washington Consensus by supporting alternative models of economic development, and has advocated cooperation among the worlds poor nations, especially those in Latin America', 'tag': ' '}, {'text': 'Chávezs reforms have evoked exceptional controversy in Venezuela and abroad, receiving both criticism and praise.', 'tag': ' '}, {'text': 'Venezuelans are split between those who say he has empowered the poor and stimulated economic growth, and those who say he is autocratic and has mismanaged the economy.', 'tag': ' '}, {'text': 'Some foreign governments view Chávez as a threat to global oil prices and regional stability, while others welcome his bilateral trade and reciprocal aid agreements.', 'tag': '+'}, {'text': 'In May 2006, he was named one of Time magazines 100 most influential people', 'tag': ' '}, {'text': 'Chávez was born on July 28, 1954 in the town of Sabaneta, Barinas.', 'tag': ' '}, {'text': 'The second son of two schoolteachers, Hugo de los Reyes Chávez and Elena Frías de Chávez, he is of mixed  Amerindian, African, and Spanish descent.', 'tag': ' '}, {'text': 'Chávez was raised in a thatched palm leaf house near Sabaneta.', 'tag': ' '}, {'text': 'At an early age, Chávez was sent to Sabaneta with his older brother Adán to live with his paternal grandmother, Rosa Inés Chávez.', 'tag': ' '}, {'text': 'There, Chávez pursued hobbies such as painting, singing, and baseball, while also attending elementary school at the Julián Pino School.', 'tag': ' '}, {'text': 'He was later forced to relocate to the town of Barinas to attend high school at the Daniel Florencio OLeary School.', 'tag': '+'}, {'text': 'At age seventeen, Chávez enrolled at the Venezuelan Academy of Military Sciences.', 'tag': ' '}, {'text': 'After graduating in 1975 as a sub-lieutenant with a degree in Military Arts and Science, Chávez entered military service for several months.', 'tag': ' '}, {'text': 'He was then allowed to pursue graduate studies in political science at Caracas Simón Bolívar University, but left without a degree.', 'tag': '+'}, {'text': 'Over the course of his college years, Chávez and fellow students developed a fervently left-nationalist doctrine that they termed \"Bolivarianism,\" inspired by the Pan-Americanist philosophies of 19th-century Venezuelan revolutionary Simón Bolívar, the influence of former Peruvian President Juan Velasco Alvarado and the teachings of various socialist and communist leaders.', 'tag': '+'}, {'text': 'Chávez engaged in sporting events and cultural activities during these years as well.', 'tag': ' '}, {'text': 'Notably, Chávez played both baseball and softball with the Criollitos de Venezuela, progressing with them to the Venezuelan National Baseball Championships in 1969.', 'tag': ' '}, {'text': 'Chávez also authored numerous poems, stories and theatrical pieces', 'tag': ' '}, {'text': 'Upon completing his studies, Chávez initially entered active-duty military service as a member of a counter insurgency battalion stationed in Barinas.', 'tag': ' '}, {'text': 'Chávezs military career lasted 17 years, during which time he held a variety of post, command, and staff positions, eventually rising to the rank of lieutenant colonel.', 'tag': ' '}, {'text': 'Chávez also held a series of teaching and staffing positions at the Military Academy of Venezuela, where he was first acknowledged by his peers for his fiery lecturing style and radical critique of Venezuelan government and society.', 'tag': ' '}, {'text': 'At this time, Chávez established the Revolutionary Bolivarian Movement-200 (MBR-200).', 'tag': ' '}, {'text': 'Afterwards, he rose to fill a number of sensitive high-level positions in Caracas and was decorated several times', 'tag': ' '}, {'text': 'After an extended period of popular dissatisfaction and economic decline under the administration of President Carlos Andrés Pérez and the violent repression known as El Caracazo,  Chávez made extensive preparations for a military coup détat.', 'tag': ' '}, {'text': 'Initially planned for December, Chávez delayed the MBR-200 coup until the early twilight hours of February 4, 1992.', 'tag': ' '}, {'text': 'On that date, five army units under Chávezs command barreled into urban Caracas with the mission of assaulting and overwhelming key military and communications installations throughout the city, including the Miraflores presidential palace, the defense ministry, La Carlota military airport, and the Historical Museum.', 'tag': ' '}, {'text': 'Chávezs ultimate goal was to intercept and take custody of Pérez, who was returning to Miraflores from an overseas trip.', 'tag': '+'}, {'text': 'Chávez held the loyalty of less than 10% of Venezuelas military forces; still, numerous betrayals, defections, errors, and other unforeseen circumstances soon left Chávez and a small group of rebels cut off in the Historical Museum, without any means of conveying orders to their network of spies and collaborators spread throughout Venezuela.', 'tag': ' '}, {'text': 'Further, Chávezs allies were unable to broadcast their prerecorded tapes on the national airwaves in which Chávez planned to issue a general call for a mass civilian uprising against Pérez.', 'tag': ' '}, {'text': 'As the coup unfolded, the coup plotters were unable to capture Pérez: fourteen soldiers were killed, and 50 soldiers and some 80 civilians injured in the ensuing violence.', 'tag': ' '}, {'text': 'Nevertheless, rebel forces in other parts of Venezuela made advances and were ultimately able to take control of such large cities as Valencia, Maracaibo, and Maracay with the help of spontaneous civilian aid.', 'tag': ' '}, {'text': 'Chávezs forces, however, had failed to take Caracas', 'tag': ' '}, {'text': 'Chávez, alarmed, soon gave himself up to the government.', 'tag': ' '}, {'text': 'He was then allowed to appear on national television to call for all remaining rebel detachments in Venezuela to cease hostilities.', 'tag': ' '}, {'text': 'When he did so, Chávez famously quipped on national television that he had only failed \"por ahora\"—\"for the moment.\"', 'tag': '+'}, {'text': 'Chávez was catapulted into the national spotlight, with many poor Venezuelans seeing him as a figure who had stood up against government corruption and kleptocracy.', 'tag': ' '}, {'text': 'Chávez was sent to Yare prison; meanwhile, Pérez, the coups intended target, was impeached a year later.', 'tag': ' '}, {'text': 'While in prison, Chávez developed a carnosity of the eye, which spread to his iris.', 'tag': ' '}, {'text': 'The clarity of his eyesight was slowly corrupted; despite treatments and operations, Chávezs eyesight was permanently damaged.', 'tag': '+'}, {'text': 'Template:ChavezElections1998', 'tag': ' '}, {'text': 'After a two-year imprisonment, Chávez was pardoned by President Rafael Caldera in 1994.', 'tag': ' '}, {'text': 'Upon his release, Chávez reconstituted the MBR-200 as the Fifth Republic Movement (MVR—Movimiento Quinta República, with the V representing the Roman numeral five).', 'tag': ' '}, {'text': 'Later, in 1998, Chávez began to campaign for the presidency.', 'tag': ' '}, {'text': 'In working to gain the trust of voters, Chávez drafted an agenda that drew heavily on his ideology of Bolivarianism.', 'tag': ' '}, {'text': 'Chávez and his followers described their aim as \"laying the foundations of a new republic\" to replace the existing one, which they cast as \"party-dominated\"; the current constitution, they argued, was no more than the juridico-political embodiment of puntofijismo, the countrys traditional two-party patronage system.', 'tag': ' '}, {'text': 'Controversially, foreign banks—including Spains Banco Bilbao Vizcaya Argentaria (BBVA) and Banco Santander (BSCH), each the owner of one of Venezuelas largest banks—illicitly funneled millions of dollars into Chávezs campaign', 'tag': ' '}, {'text': 'Chávez utilized his charisma and flamboyant public speaking style—noted for its abundance of colloquialisms and ribald manner—on the campaign trail to win the trust and favor of a primarily poor and working class following.', 'tag': ' '}, {'text': 'By May 1998, Chávezs support had risen to 30% in polls, and by August he was registering 39%.', 'tag': ' '}, {'text': 'Chávez went on to win the Carter Center-endorsed 1998 presidential election on December 6, 1998 with 56% of the vote', 'tag': ' '}, {'text': 'Chávez took the presidential oath of office on February 2, 1999 with a mandate to reverse Venezuelas economic decline and strengthen the role of the state in the economy.', 'tag': ' '}, {'text': 'Chávezs first few months in office were dedicated primarily to dismantling what his supporters deemed puntofijismo via new legislation and constitutional reform, while his secondary focus was on immediately allocating more government funds to new social programs', 'tag': ' '}, {'text': 'However, as a recession triggered by historically low oil prices and soaring international interest rates rocked Venezuela, the shrunken federal treasury provided very little of the resources Chávez required for his promised massive anti-poverty measures.', 'tag': ' '}, {'text': 'Consequently, in April 1999 Chávez set his eyes upon the one Venezuelan institution that was costly for the government but did little for the systematic social development that Chávez desired: the military.', 'tag': ' '}, {'text': 'Chávez ordered all branches of the military to devise programs to combat poverty and to further civic and social development in Venezuelas vast slum and rural areas.', 'tag': ' '}, {'text': 'This civilian-military program was launched as \"Plan Bolivar 2000,\" whose scope included road building, housing construction, and mass vaccination.', 'tag': '+'}, {'text': 'The plan faltered at the end of 2001 amid revelations of corruption by military officers, including both military officers who later rebelled against the president in April 2002 and officers linked to the president', 'tag': ' '}, {'text': 'Chávez sharply diverged from previous administrations economic policies, terminating their practice of extensively privatizing Venezuelas state-owned holdings, such as the national social security system, holdings in the aluminum industry, and the oil sector.', 'tag': ' '}, {'text': 'However, although Chávez wished to promote the redistribution of wealth, increased regulation, and social spending, he did not wish to discourage foreign direct investment (FDI).', 'tag': ' '}, {'text': 'In keeping with his predecessors, Chávez attempted to shore up FDI influxes to prevent an economic crisis of chronic capital flight and inflation', 'tag': ' '}, {'text': 'Chávez also worked to reduce Venezuelan oil extraction in the hopes of elevating oil prices and, at least theoretically, elevated total oil revenues, thereby boosting Venezuelas severely deflated foreign exchange reserves.', 'tag': ' '}, {'text': 'He extensively lobbied other OPEC countries to cut their production rates as well.', 'tag': ' '}, {'text': 'As a result of these actions, Chávez became known as a \"price hawk\" in his dealings with the oil industry and OPEC.', 'tag': '+'}, {'text': 'Chávez also attempted a comprehensive renegotiation of 60-year-old royalty payment agreements with oil giants Philips Petroleum and ExxonMobil.', 'tag': ' '}, {'text': 'These agreements had allowed the corporations to pay in taxes as little as 1% of the tens of billions of dollars in revenues they were earning from the Venezuelan oil they were extracting.', 'tag': ' '}, {'text': 'Afterwards, Chávez stated his intention to complete the nationalization of Venezuelas oil resources.', 'tag': ' '}, {'text': 'Although unsuccessful in his attempts to renegotiate with the oil corporations, Chávez focused on his stated goal of improving both the \"fairness\" and efficiency of Venezuelas formerly lax tax collection and auditing system, especially for major corporations and landholders', 'tag': ' '}, {'text': 'Template:ChavezElections1999', 'tag': ' '}, {'text': 'Nevertheless, by mid-1999, Chávez was incensed by his administrations setbacks in enacting his much-promised anti-poverty initiatives.', 'tag': ' '}, {'text': 'The National Assemblys opposition members impeded the legislation of his political allies.', 'tag': ' '}, {'text': 'Chávez moved to bypass such opposition by approving the scheduling of two fresh national elections for July 1999—just months after Chávezs presidential election.', 'tag': ' '}, {'text': 'The first was a nationwide referendum to determine whether a national constitutional assembly should be created.', 'tag': ' '}, {'text': 'A second election was held that elected delegates to this constitutional assembly.', 'tag': ' '}, {'text': 'The constitutional referendum passed with a CNE-audited 72% \"yes\" vote; in the second election, members of Chávezs MVR and select allied parties formed the Polo Patriotico (\"Patriotic Pole\").', 'tag': '+'}, {'text': 'Chávezs Polo Patriotico went on to win 95% (120 out of the total 131) of the seats in the voter-approved Venezuelan Constitutional Assembly', 'tag': ' '}, {'text': 'However, in August 1999, the Constitutional Assembly established a special \"judicial emergency committee\" with the power to remove judges without consulting with other branches of government—over 190 judges were eventually suspended on charges of corruption.', 'tag': ' '}, {'text': 'In the same month, the Constitutional Assembly declared a \"legislative emergency,\" resulting in a seven-member committee that was tasked with conducting the legislative functions ordinarily carried out by the National Assembly.', 'tag': ' '}, {'text': 'Legislative opposition to Chávezs policies was immediately disabled.', 'tag': ' '}, {'text': 'Meanwhile, the Constitutional Assembly prohibited the National Assembly from holding meetings of any sort', 'tag': ' '}, {'text': 'The Constitutional Assembly itself drafted the new 1999 Venezuelan Constitution.', 'tag': ' '}, {'text': 'With 350 articles, the document was, as drafted, one of the worlds lengthiest constitutions.', 'tag': ' '}, {'text': 'It first changed the countrys official name from \"Republic of Venezuela\" to \"Bolivarian Republic of Venezuela.\"', 'tag': '+'}, {'text': 'It also increased the presidential term of office from five to six years, allowed for two consecutive presidential terms rather than one, introduced a presidential two-term limit, and introduced provisions for national presidential recall referenda—that is, Venezuelan voters gained the right to remove the president from office before the expiration of his presidential term.', 'tag': ' '}, {'text': 'Such referenda can only be activated by a petition to do so with the required number of signatures.', 'tag': ' '}, {'text': 'The presidency was also dramatically strengthened, with the power to dissolve the National Assembly on certain conditions.', 'tag': ' '}, {'text': 'The new constitution converted the formerly bicameral National Assembly into a unicameral legislature, and stripped it of many of its former powers.', 'tag': ' '}, {'text': 'Provisions were also made for a new position, the Public Defender, an office with the authority to check the activities of the presidency, the National Assembly, and the constitution.', 'tag': ' '}, {'text': 'Chávez characterized the Public Defender as the guardian of the \"moral branch\" of the new Venezuelan government, tasked with defending public and moral interests.', 'tag': '+'}, {'text': 'Lastly, the Venezuelan judiciary was reformed.', 'tag': ' '}, {'text': 'Judges, under the new constitution, were now to be installed after passing public examinations and were not, as in the old manner, to be appointed by the National Assembly', 'tag': ' '}, {'text': 'This new constitution was presented to the national electorate in December 1999 and approved.', 'tag': ' '}, {'text': 'Over a span of a mere 60 days, the Constitutional Assembly thus framed a document that enshrined as constitutional law most of the structural changes Chávez desired.', 'tag': ' '}, {'text': 'Chávez stated that such changes were necessary in order to successfully and comprehensively enact his planned social justice programs.', 'tag': ' '}, {'text': 'He planned to enact sweeping changes in Venezuelan governmental and political structure, and, based on his 1998 campaign pledges, to dramatically open up Venezuelan political discourse to independent and third parties.', 'tag': ' '}, {'text': 'In the process, Chávez sought to fatally paralyze his AD (Acción Democrática) and COPEI opposition.', 'tag': ' '}, {'text': 'All of Chávezs aims were, in one move, dramatically furthered.', 'tag': '+'}, {'text': 'On December 15 1999, after weeks of heavy rain, statewide mudslides claimed the lives of an estimated 30,000 people.', 'tag': ' '}, {'text': 'Critics claim Chávez was distracted by the referendum and that the government ignored a civil defense report, calling for emergency measures, issued the day the floods struck.', 'tag': ' '}, {'text': 'The government rejected these claims.', 'tag': ' '}, {'text': 'Chávez personally led the relief effort afterwards.', 'tag': ' '}, {'text': 'Subsequent mudslides in 2000 left 3 dead', 'tag': ' '}, {'text': 'Template:ChavezElections2000', 'tag': ' '}, {'text': 'Elections for the new unicameral National Assembly were held on July 30, 2000.', 'tag': ' '}, {'text': 'During this same election, Chávez himself stood for reelection.', 'tag': ' '}, {'text': 'Chávezs coalition garnered a commanding two-thirds majority of seats in the National Assembly while Chávez was reelected with 60% of the votes.', 'tag': ' '}, {'text': 'The Carter Center monitored the 2000 presidential election; their report on that election stated that, due to lack of transparency, CNE partiality, and political pressure from the Chávez government that resulted in unconstitutionally early elections, it was unable to validate the official CNE results.', 'tag': ' '}, {'text': 'However, they concluded that the presidential election legitimately expressed the will of the people', 'tag': ' '}, {'text': 'Later, on December 3, 2000, local elections and a referendum were held.', 'tag': ' '}, {'text': 'The referendum, backed by Chávez, proposed a law that would force Venezuelas labor unions to hold state-monitored elections.', 'tag': ' '}, {'text': 'The referendum was widely condemned by international labor organizations—including the International Labour Organization—as undue government interference in internal union matters; these organizations threatened to apply sanctions on Venezuela', 'tag': ' '}, {'text': 'After the May and July 2000 elections, Chávez backed the passage of the \"Enabling Act\" by the National Assembly.', 'tag': '+'}, {'text': 'This act allowed Chávez to rule by decree for one year.', 'tag': ' '}, {'text': 'In November 2001, shortly before the Enabling Act was set to expire, Chávez enacted a set of 49 decrees.', 'tag': ' '}, {'text': 'These included the Hydrocarbons Law and the Land Law, which are detailed below.', 'tag': ' '}, {'text': 'Fedecámaras, a national business federation,and the Confederación de Trabajadores de Venezuela, a federation of labor unions, opposed the approval of the new laws and called for a general business strike on December 10, 2001 in the hope that the President would reconsider his legislative action and, instead, open a debate about those laws.', 'tag': ' '}, {'text': 'The strike failed to significantly impact Chávezs decision or policies', 'tag': ' '}, {'text': 'By the end of the first three years of his presidency, Chávez had successfully initiated a land transfer program and had introduced several reforms aimed at improving the social welfare of the population.', 'tag': ' '}, {'text': 'These reforms entailed the lowering of infant mortality rates; the implementation of a free, government-funded healthcare system; and free education up to the university level.', 'tag': ' '}, {'text': 'By December of 2001, following Chávezs imposition of capital controls, inflation fell to 13.4% the lowest in 14 years, while economic growth was steady at four percent.', 'tag': ' '}, {'text': 'Chávezs administration also reported an increase in primary school enrollment by one million students', 'tag': ' '}, {'text': 'On April 9, 2002, CTV leader Carlos Ortega called for a two-day general strike.', 'tag': ' '}, {'text': 'Approximately 500,000 people took to the streets on April 11, 2002 and marched towards the headquarters of Venezuelas state-owned oil company, Petróleos de Venezuela S.A. (PDVSA), in defense of its recently-fired management.', 'tag': ' '}, {'text': 'The organizers decided to redirect the march to Miraflores, the presidential palace, where a pro-Chávez demonstration was taking place.', 'tag': ' '}, {'text': 'Gunfire and violence erupted between two groups of demonstrators, Caracas Metropolitan Police (under the control of the oppositionist mayor), and the Venezuelan national guard (under Chávezs command), and snipers were reported from the areas where both opposition and Chávez supporters were concentrated.', 'tag': ' '}, {'text': 'Domestic and international observers criticized the Government for excessive abuse of its right to call national broadcasts requiring all broadcast media to cease scheduled programming and transmit the broadcasts in their entirety.', 'tag': ' '}, {'text': 'Between April 9 and 11, the government required all radio and TV stations to transmit numerous speeches by President Chávez, other government officials, and other programming favorable to the Government, even shutting the signals of the stations who refused, in an attempt to block coverage of the demonstrations and ensuing violence', 'tag': ' '}, {'text': 'Then, unexpectedly, Lucas Rincón Romero, commander-in-chief of the Venezuelan armed forces, announced in a broadcast to a nationwide audience that Chávez had tendered his resignation from the presidency.', 'tag': ' '}, {'text': 'While Chávez was brought to a military base and held there, military leaders appointed the president of the Fedecámaras, Pedro Carmona, as Venezuelas interim president.', 'tag': ' '}, {'text': 'Carmonas first decree reversed all of the major social and economic policies that comprised Chávezs \"Bolivarian Revolution,\" including loosening Chávezs credit controls and ending his oil price quotas by raising production back to pre-Chávez levels.', 'tag': ' '}, {'text': 'Carmona also dissolved both the National Assembly and the Venezuelan judiciary, while reverting the nations name back to República de Venezuela', 'tag': ' '}, {'text': 'Carmonas decrees were followed by pro-Chávez uprisings and looting across Caracas.', 'tag': ' '}, {'text': 'Responding to these disturbances, Venezuelan soldiers loyal to Chávez called for massive popular support for a counter-coup.', 'tag': ' '}, {'text': 'These soldiers later stormed and retook the presidential palace, and retrieved Chávez from captivity.', 'tag': ' '}, {'text': 'The shortest-lived government in Venezuelan history was thus toppled, and Chávez resumed his presidency on the night of Saturday, April 13, 2002.', 'tag': ' '}, {'text': 'Following this episode, Rincón was reappointed by Chávez as Commander of the Army, and later as Interior Minister in 2003.', 'tag': ' '}, {'text': 'Controversy regarding US intervention raged afterwards.', 'tag': ' '}, {'text': 'The Observer reports Otto Reich told Latin American diplomats \"the removal of Chavez was not a rupture of democratic rule, as he had resigned and was responsible for his fate\" and that \"the US would support the Carmona government.', 'tag': ' '}, {'text': '\"After Chávez resumed his presidency in April 2002, he claimed that a plane with U.S. registration numbers had visited and been berthed at Venezuelas Orchila Island airbase, where Chávez had been held captive.', 'tag': '+'}, {'text': 'On May 14, 2002, Chávez alleged that he had definitive proof of U.S. military involvement in Aprils coup.', 'tag': ' '}, {'text': 'He claimed that during the coup Venezuelan radar images had indicated the presence of U.S. military naval vessels and aircraft in Venezuelan waters and airspace.', 'tag': ' '}, {'text': 'The Guardian published a claim by former US intelligence officer Wayne Madsen alleging U.S. Navy involvement.', 'tag': ' '}, {'text': 'U.S. Senator Christopher Dodd, D-CT, requested an investigation of concerns that Washington appeared to condone the removal of Mr Chávez, which subsequently found that \"U.S. officials acted appropriately and did nothing to encourage an April coup against Venezuelas president\", nor did they provide any naval logistical support.', 'tag': ' '}, {'text': 'According to Democracy Now!, CIA documents indicate that the Bush administration knew about a plot weeks before the April 2002 military coup.', 'tag': ' '}, {'text': 'They cite a document dated 6 April 2002, which says: \"dissident military factions...are stepping up efforts to organize a coup against President Chávez, possibly as early as this month.\"', 'tag': '+'}, {'text': 'According to William Brownfield, ambassador to Venezuela, the U.S. embassy in Venezuela warned Chávez about a coup plot in April 2002.', 'tag': ' '}, {'text': 'Further, the United States Department of State and the investigation by the Office of the Inspector General found no evidence that \"U.S. assistance programs in Venezuela, including those funded by the National Endowment for Democracy (NED), were inconsistent with U.S. law or policy\" or \". . .', 'tag': '+'}, {'text': 'directly contributed, or was intended to contribute, to .\"', 'tag': '+'}, {'text': 'Chávez also claimed, during the coups immediate aftermath, that the U.S. was still seeking his overthrow.', 'tag': ' '}, {'text': 'On October 6, 2002, he stated that he had foiled a new coup plot, and on October 20, 2002, he stated that he had barely escaped an assassination attempt while returning from a trip to Europe.', 'tag': ' '}, {'text': 'During that period, the US Ambassador to Venezuela warned the Chávez administration of two potential assassination plots', 'tag': ' '}, {'text': 'Following his return to office, Chávez quickly took steps to secure support for his government.', 'tag': ' '}, {'text': 'First, Chávez fired sixty generals and completely replaced the upper echelons of Venezuelas armed forces, substituting them with personnel that could be described as either more complacent, or more loyal to the state, depending on ones political affiliation.', 'tag': ' '}, {'text': 'Chávez also sought to strengthen support among rank and file soldiers.', 'tag': ' '}, {'text': 'He boosted support programs, employment, and benefits for veterans, while promulgating new civilian-military development initiatives', 'tag': ' '}, {'text': 'However, only a few months would pass after the April 2002 coup before the Chávez presidency would enter another crisis.', 'tag': ' '}, {'text': 'Chávez, outraged by the coup and seeking more funds for his social programs, moved in late 2002 to implement total control over the PDVSA and its revenues.', 'tag': ' '}, {'text': 'As a result, for two months following December 2, 2002, Chávez faced a strike organized by the resistant PDVSA management who sought to force Chávez out of office by completely removing his access to the all-important government oil revenue.', 'tag': ' '}, {'text': 'The strike, led by a coalition of labor unions, industrial magnates, and oil workers, sought to halt the activities of the PDVSA.', 'tag': ' '}, {'text': 'As a result, Venezuela ceased exporting its former daily average of 2,800,000 barrels (450,000 m3) of oil and oil derivatives.', 'tag': ' '}, {'text': 'Hydrocarbon shortages soon erupted throughout Venezuela, with long lines forming at petrol-filling stations.', 'tag': ' '}, {'text': 'Gasoline imports were soon required.', 'tag': ' '}, {'text': 'Alarmed, Chávez responded by firing PDVSAs anti-Chávez upper-echelon management and dismissing 18,000 skilled PDVSA employees.', 'tag': ' '}, {'text': '', 'tag': '+'}, {'text': 'Chávez justified this by alleging their complicity in gross mismanagement and corruption in their handling of oil revenues, while opposition supporters of the fired workers stated that his actions were politically-motivated In July 2003 he launched \"Mission Robinson,\" billed as a campaign aimed at providing free reading, writing and arithmetic lessons to the more than 1.5 million Venezuelan adults who were illiterate prior to his 1999 election. In late 2003, the Venezuelan president launched \"Mission Sucre,\" with the stated intent of providing free higher education to the two million adult Venezuelans who had not completed their elementary-level education.', 'tag': '+'}, {'text': 'In 2003 and 2004 Chávez launched a number of social and economic campaigns as he struggled to maintain popular support. On October 12, 2003, Chávez initiated \"Mission Guaicaipuro,\" a program billed as protecting the livelihood, religion, land, culture, and rights of Venezuelas indigenous peoples. In November 2003, Chávez announced \"Mission Ribas,\" with the promise of providing remedial education and diplomas for Venezuelas five million high school dropouts.', 'tag': '+'}, {'text': 'On the first anniversary of Mission Robinsons establishment, Chávez stated in Caracass Teresa Carreño theater to an audience of 50,000 formerly illiterate Venezuelans, \"in a year, we have graduated 1,250,000 Venezuelans.\"', 'tag': ' '}, {'text': 'Nevertheless, there were also significant setbacks.', 'tag': ' '}, {'text': 'Notably, the inflation rate rocketed to 31% in 2002 and remained at the high level of 27% in 2003, causing a great deal of hardship for the poor', 'tag': ' '}, {'text': 'In May 9, 2004, a group of 126 Colombians were captured during a raid of two farms near Caracas.', 'tag': ' '}, {'text': 'The Colombians were outfit in Venezuelan military uniforms and testified that, once they arrived in Venezuela after receiving promises of legal employment, they were then hired for military action against Venezuelan regulars.', 'tag': ' '}, {'text': 'The farm was owned by a Cuban anti-Fidel Castro exile and a leader in the unsuccessful 2002 coup.', 'tag': ' '}, {'text': 'Chávez soon levelled accusations of the attempted formation of a foreign-funded paramilitary force who intended to violently overthrow his rule.', 'tag': ' '}, {'text': 'These events merely served to further the extreme and violent polarization of Venezuelan society between pro- and anti-Chávez camps.', 'tag': ' '}, {'text': 'Chávezs allegations of a putative 2004 coup attempt continue to stir controversy and doubts to this day.', 'tag': ' '}, {'text': 'In October 2005, 27 of the accused Colombians were found guilty, while the rest were released and deported', 'tag': ' '}, {'text': 'Template:ChavezElections2004', 'tag': ' '}, {'text': 'In early and mid-2003, Súmate, an opposition-aligned volunteer civilian voter rights organization, began the process of collecting the millions of signatures needed to activate the presidential recall provision provided for in Chávezs 1999 Constitution.', 'tag': ' '}, {'text': 'In August 2003, around 3.2 million signatures were presented, but these were rejected by the pro-Chávez majority in the Consejo Nacional Electoral (CNE; \"National Electoral Council\") on the grounds that many had been collected before the mid-point of Chávezs presidential term.', 'tag': '+'}, {'text': 'Reports then began to emerge among opposition and international news outlets that Chávez had begun to act punitively against those who had signed the petition, while pro-Chávez individuals stated that they had been coerced by employers into offering their signatures at their workplaces.', 'tag': ' '}, {'text': 'In November 2003, the opposition collected an entirely new set of signatures, with 3.6 million names produced over a span of four days.', 'tag': ' '}, {'text': 'Riots erupted nationwide as allegations of fraud were made by Chávez against the signature collectors', 'tag': ' '}, {'text': 'The provision in the Constitution allowing for a presidential recall requires the signatures of 20% of the electorate in order to effect a recall.', 'tag': ' '}, {'text': 'Further, the cédulas (national identity card numbers) and identities of petition signers are not secret, and in fact were made public by Luis Tascón, a member of the Venezuelan National Assembly representing Chávez party (Fifth Republic Movement - MVR) and the Communist Party of Venezuela of Táchira state.', 'tag': ' '}, {'text': 'The government was accused of increasing the voter rolls by giving citizenship to illegal immigrants and refugees, and the opposition claimed that it was a citizenship for votes program.', 'tag': ' '}, {'text': 'Voter registration increased by about 2 million people ahead of the referendum, which in effect raised the threshold of the 20% of the electorate needed to effect a recall', 'tag': ' '}, {'text': 'Credible anecdotal evidence emerged that Chávez and his allies were penalizing signers of the publicly posted petition by denying them government jobs and services.', 'tag': ' '}, {'text': 'Charges were made of summary dismissals from government ministries, PDVSA, the state-owned water corporation, the Caracas Metro, and public hospitals controlled by Chávezs political allies.', 'tag': ' '}, {'text': 'Finally, after opposition leaders submitted to the CNE a valid petition with 2,436,830 signatures that requested a presidential recall referendum, a recall referendum was announced on June 8, 2004 by the CNE.', 'tag': ' '}, {'text': 'Chávez and his political allies responded to this by mobilizing supporters to encourage rejection of the recall with a \"no\" vote.', 'tag': '+'}, {'text': 'The recall vote itself was held on August 15, 2004.', 'tag': ' '}, {'text': 'A record number of voters turned out to defeat the recall attempt with a 59% \"no\" vote.', 'tag': '+'}, {'text': 'The election was overseen by the Carter Center and the Organization of American States, and was certified by them as fair and open', 'tag': ' '}, {'text': '', 'tag': '+'}, {'text': 'Critics called the results fraudulent, citing documents which indicated that the true results were the complete opposite of the reported ones, and raising questions about the governments ownership of voting machines. A jubilant Chávez pledged to redouble his efforts against both poverty and \"imperialism,\" while promising to foster dialogue with his opponents.', 'tag': '+'}, {'text': 'European Union observers did not attend, saying too many restrictions had been placed on their participation by the government. \"Massive fraud\" was alleged and the conclusions of former U.S. President Jimmy Carter were questioned, although five other opposition polls showed a Chávez victory Chávezs government subsequently charged the founders of Súmate with treason and conspiracy for receiving foreign funds, earmarked for voter education, from the United States Department of State through the National Endowment for Democracy, triggering commentary from human rights organizations and the U.S. government.', 'tag': '+'}, {'text': 'The trial has been postponed several times.', 'tag': ' '}, {'text': 'A program called \"Mission Identity\", to fast track voter registration of immigrants to Venezuela — including Chávez supporters benefiting from his subsidies — has been put in place prior to the upcoming 2006 presidential elections', 'tag': '+'}, {'text': 'In the aftermath of his referendum victory, Chávezs primary objectives of fundamental social and economic transformation and redistribution accelerated dramatically.', 'tag': ' '}, {'text': 'Chávez himself placed the development and implementation of the \"Bolivarian Missions\" once again at the forefront of his political agenda.', 'tag': '+'}, {'text': 'Sharp increases in global oil prices gave Chávez access to billions of dollars in extra foreign exchange reserves.', 'tag': ' '}, {'text': 'Economic growth picked up markedly, reaching double-digit growth in 2004 and a 9.3% growth rate for 2005', 'tag': ' '}, {'text': 'Many new policy initiatives were advanced by Chávez after 2004. When asked if he would ever actually move to use the 40-month sentence if a media figure insulted him, Chávez remarked that \"I dont care if they call me names...', 'tag': ' '}, {'text': '', 'tag': ' '}, {'text': 'In late March 2005, the Chávez government passed a series of media regulations that criminalized broadcasted libel and slander directed against public officials; prison sentences of up to 40 months for serious instances of character defamation launched against Chávez and other officials were enacted. As Don Quixote said, If the dogs are barking, it is because we are working.\"', 'tag': '+'}, {'text': 'Chávez also worked to expand his land redistribution and social welfare programs by authorizing and funding a multitude of new \"Bolivarian Missions,\" including \"Mission Vuelta al Campo\"; the second and third phases of \"Mission Barrio Adentro,\" both first initiated in June 2005 with the stated aim of constructing, funding, and refurbishing secondary (integrated diagnostic center) and tertiary (hospital) public health care facilities nationwide; and \"Mission Miranda, which established a national citizens militia.', 'tag': ' '}, {'text': 'Meanwhile, Venezuelas doctors went on strike, protesting the siphoning of public funds from their existing institutions to these new Bolivarian ones, run by Cuban doctors', 'tag': ' '}, {'text': 'Chávez focused considerably on Venezuelas foreign relations in 2004 and 2005 via new bilateral and multilateral agreements, including humanitarian aid and construction projects.', 'tag': ' '}, {'text': 'Chávez has engaged, with varying degrees of success, numerous other foreign leaders, including Argentinas Néstor Kirchner, Chinas Hu Jintao, Cubas Fidel Castro and Irans Mahmoud Ahmadinejad.', 'tag': ' '}, {'text': 'On March 4, 2005, Chávez publicly declared that the U.S.-backed Free Trade Area of the Americas (FTAA) was \"dead.\"', 'tag': '+'}, {'text': 'Chávez stated that the neoliberal model of development had utterly failed in improving the lives of Latin Americans, and that an alternative, anti-capitalist model would be conceived in order to increase trade and relations between Venezuela, Argentina and Brazil.', 'tag': ' '}, {'text': 'Chávez also stated his desire that a leftist, Latin American analogue of NATO be established', 'tag': ' '}, {'text': 'Over the course of 2004 and 2005, the Venezuelan military under Chávez also began in earnest to reduce weaponry sourcing and military ties with the United States.', 'tag': ' '}, {'text': 'Chávezs Venezuela is thus increasingly purchasing arms from alternative sources, such as Brazil, Russia, China and Spain.', 'tag': ' '}, {'text': '', 'tag': ' '}, {'text': 'He also asked all active-duty U.S. soldiers to leave Venezuela.', 'tag': ' '}, {'text': 'Friction over these sales escalated, and in response Chávez ended cooperation between the militaries of the two countries. Additionally, in 2005 Chávez announced the creation of a large \"military reserve\"—the Mission Miranda program, which encompasses a militia of 1.5 million citizens—as a defensive measure against foreign intervention or outright invasion.', 'tag': '+'}, {'text': 'Additionally, in October 2005, Chávez banished the Christian missionary organization \"New Tribes Mission\" from the country, accusing it of \"imperialist infiltration\" and harboring connections with the CIA.', 'tag': ' '}, {'text': 'At the same time, he granted inalienable titles to over 6,800 square kilometers of land traditionally inhabited by Amazonian indigenous peoples to their respective resident natives, though this land could not be bought or sold as Western-style title deeds can.', 'tag': ' '}, {'text': 'Chávez cited these changes as evidence that his revolution was also a revolution for the defense of indigenous rights, such as those promoted by Chávezs Mission Guaicaipuro', 'tag': ' '}, {'text': 'During this period, Chávez placed much greater emphasis on alternative economic development and international trade models, much of it in the form of extremely ambitious hemisphere-wide international aid agreements.', 'tag': ' '}, {'text': 'For example, on August 20, 2005, during the first graduation of international scholarship students from Cubas Latin American School of Medicine, Chávez announced that he would jointly establish with Cuba a second such medical school that would provide tuition-free medical training—an ex gratia project valued at between $20 and 30 billion—to more than 100,000 physicians who would pledge to work in the poorest communities of the Global South.', 'tag': ' '}, {'text': 'He announced that the project would run for the next decade, and that the new school would include at least 30,000 new places for poor students from both Latin America and the Caribbean', 'tag': ' '}, {'text': '', 'tag': ' '}, {'text': 'Most notably, during his speech at the 2005 UN World Summit, he denounced development models that are organized around neoliberal guidelines such as liberalization of capital flows, removal of trade barriers, and privatization as the reason for the developing worlds impoverishment. Oil is starting to become exhausted.\" The man went away wounded.', 'tag': ' '}, {'text': '', 'tag': ' '}, {'text': 'Chávez has also taken ample opportunity on the international stage to juxtapose such projects with the manifest results and workings of neoliberal globalization. Chávez also went on to warn of an imminent global energy famine brought about by hydrocarbon depletion (based on Hubbert peak theory), stating that \"we are facing an unprecedented energy crisis... Additionally, on November 7, 2005, Chávez referenced the stalling of the FTAA, stating at the Fourth Summit of the Americas, held in Mar del Plata, Argentina, that \"the great loser today was George W. Bush. You could see defeat on his face.\"', 'tag': '+'}, {'text': 'Chávez took the same opportunity to state that \"the taste of victory\" was apparent with regards to the promotion of his own trade alternative, the Bolivarian Alternative for the Americas (ALBA—Alternativa Bolivariana para América), which Venezuela and Cuba inaugurated on December 14, 2004', 'tag': ' '}, {'text': 'In 2005, Chávez demanded the extradition of Luis Posada Carriles, accused of conspiring to bomb Cubana Flight 455.', 'tag': ' '}, {'text': 'A Texas judge blocked the extradition on the grounds that he could be tortured in Venezuela; the Venezuelan embassy blamed the Department of Homeland Security for refusing to contest such accusations during the trial.', 'tag': ' '}, {'text': 'Chávez also requested the extradition of former Venezuelan  officers and members of Militares democraticos, Lt. German Rodolfo Varela and Lt. Jose Antonio Colina, who are wanted for bombing the Spanish and Colombian embassies after Chávez made a speech criticizing both governments', 'tag': ' '}, {'text': 'The BBC says that Chavez \"has made no secret of the fact that he is in favour of amending the constitution so that he can run again for president in 2012.\"', 'tag': '+'}, {'text': 'In spite of a presidential term limit of 12 years, according to The Economist, Chávez often suggests that he will remain in power for 25 years, a claim he denies as a misinterpretation of his intent.', 'tag': ' '}, {'text': 'Chávez has said that if the opposition boycotts the 2006 Venezuelan presidential election he \"might sign a decree calling for a popular referendum - Do you agree that Chavez should run for a third term in 2013?”', 'tag': '+'}, {'text': 'He is campaigning for re-election in December', 'tag': ' '}, {'text': 'In 2006 Chávez announced Venezuelas bid to win a non-permanent seat on the UN Security Council; Washington officials are encouraging Latin American and Caribbean nations to vote instead for Guatemala.', 'tag': ' '}, {'text': 'Analysts quoted by Forbes Magazine say that Chávez will offer to supply 20% of Chinas crude oil needs if Beijing backs Venezuelas bid to join the UN Security Council.', 'tag': ' '}, {'text': 'In Chile, the press is concerned that Venezuelan grants for flood aid might affect the governments decision about which country to support for admission to the UN Security Council', 'tag': ' '}, {'text': 'In accordance with his foreign policy trends, Chávez has visited several countries in Latin America, as well as Portugal, Belarus, Russia, Qatar, Syria, Iran, Vietnam, Mali and Benin.', 'tag': ' '}, {'text': 'At the request of Gambian President Yahya Jammeh, Chávez also attended the 2006 summit of the African Union in Banjul. In a highly controversial speech given to the United Nations General Assembly on 20 September, 2006, Chávez referred to United States President George W. Bush as the Devil (\"El Diablo\").', 'tag': '+'}, {'text': 'He also visited the Peoples Republic of China and Malaysia \"And the devil came here yesterday\", said Chávez, referring to Bushs General Assembly speech of the previous day, \"Yesterday, the devil came here. Right here.', 'tag': ' '}, {'text': 'Right here.', 'tag': ' '}, {'text': 'At this point Chavez made the sign of the cross, positioned his hands as if praying and looked slowly up to the ceiling. And it smells of sulfur still today, this table that I am now standing in front of.\" He continued, \"Yesterday, ladies and gentlemen, from this rostrum, the president of the United States, the gentleman to whom I refer as the devil, came here, talking as if he owned the world. As the owner of the world.\" Truly. Chávez also cited a book (Hegemony or Survival by Noam Chomsky) on imperialism and said it encapsulated his arguments: \"The American empire is doing all it can to consolidate its hegemonistic system of domination, and we cannot allow him to do that. We cannot allow world dictatorship to be consolidated.\" In response, House Democratic Leader Nancy Pelosi, an ardent critic of President Bush, called Chavez an \"everyday thug\" and not the \"modern day Simon Bolivar\" that he \"fancies himself to be\"', 'tag': '+'}, {'text': '', 'tag': ''}, {'text': 'Template:Bolivarian Missions Infobox 1', 'tag': ' '}, {'text': 'Chávezs domestic policy relies heavily on the \"Bolivarian Missions,\" a series of political campaigns aimed at radically altering the economic and cultural landscape of Venezuela.', 'tag': '+'}, {'text': 'The \"Bolivarian Missions\" have entailed the launching of massive government anti-poverty initiatives, the construction of thousands of free medical clinics for the poor, the institution of educational campaigns that have reportedly made more than one million adult Venezuelans literate, and the enactment of food and housing subsidies.', 'tag': ' '}, {'text': 'There have been marked improvements in the infant mortality rate between 1998 and 2006', 'tag': ' '}, {'text': 'The Missions have overseen widespread experimentation in what Chávez supporters term citizen- and worker-managed governance, as well as the granting of thousands of free land titles, reportedly to formerly landless poor and indigenous communities.', 'tag': ' '}, {'text': 'Several allegedly unused estates and factories have been expropriated to provide this land', 'tag': ' '}, {'text': 'On March 2006 the Communal Council Law was approved, whereby communities that decide to organize themselves into a council can be given official state recognition and access to federal funds and loans for community projects.', 'tag': ' '}, {'text': 'This skips the local and state governments that are perceived as corrupt', 'tag': ' '}, {'text': 'Chávez has had a combative relationship with the nations largest trade union confederation, the Confederación de Trabajadores de Venezuela (CTV), which is historically aligned with the Acción Democrática (AD) party.', 'tag': ' '}, {'text': 'During the December 2000 local elections, Chávez placed a referendum measure on the ballot that would mandate state-monitored elections within unions.', 'tag': ' '}, {'text': 'The measure, which was condemned by the International Labour Organization (ILO) and International Confederation of Free Trade Unions (ICFTU) as undue interference in internal union matters, passed by a large margin on a very low electoral turnout.', 'tag': ' '}, {'text': 'In the ensuing CTV elections, Carlos Ortega declared his victory and remained in office as CTV president, while chavista (pro-Chávez) candidates declared fraud', 'tag': ' '}, {'text': 'The Unión Nacional de Trabajadores (UNT—\"National Union of Workers\"), a new pro-Chávez union federation, formed in response, and has been growing in membership; it seeks to ultimately supplant the CTV.', 'tag': '+'}, {'text': 'Several chavista unions have withdrawn from the CTV because of their strident anti-Chávez activism, and have instead affiliated with the UNT.', 'tag': ' '}, {'text': 'In 2003, Chávez chose to send UNT, rather than CTV, representatives to an annual ILO meeting', 'tag': ' '}, {'text': 'Workers had occupied the factory floor and restarted production, but following a failed deal with management and amidst management threats to liquidate the firms equipment, Chávez ordered the nationalization, extended a line of credit to the workers, and ordered that the Venezuelan educational missions purchase more paper products from the company', 'tag': ' '}, {'text': 'Venezuela is a major producer of oil products, which remain the keystone of the Venezuelan economy.', 'tag': ' '}, {'text': 'Chávez has gained a reputation as a price hawk in OPEC, pushing for stringent enforcement of production quotas and higher target oil prices.', 'tag': ' '}, {'text': 'At a June 2006 meeting, Venezuela was the only OPEC country calling for lowered production to drive oil prices higher.', 'tag': ' '}, {'text': 'Industry analysts say Venezuela wants lower quotas because, under Chávezs administration, the output of Petróleos de Venezuela S.A. (PDVSA), Venezuelas state-owned oil company, has been reduced by 25% and Venezuela cannot meet its current quota.', 'tag': ' '}, {'text': 'However, Forbes argues that some oil production numbers are politically motivated, intended to discredit the Venezuelan industry.', 'tag': ' '}, {'text': 'Nonetheless, Chávez has attempted to broaden Venezuelas customer base, striking joint exploration deals with other developing countries, including Argentina, Brazil, China and India.', 'tag': ' '}, {'text': 'Record oil prices have meant more funding for social programs, but have left the economy increasingly dependent on both the Chávez government and the oil sector; the private sectors role has correspondingly diminished', 'tag': ' '}, {'text': 'He has also attempted to repatriate more oil funds to Venezuela by raising royalty percentages on joint extraction contracts that are payable to Venezuela.', 'tag': ' '}, {'text': 'Chávez has also explored the liquidation of some or all of the assets belonging to PDVSAs U.S.-based subsidiary, Citgo.', 'tag': ' '}, {'text': 'The Ministry of Energy and Petroleum has been successful in restructuring Citgos profit structure, resulting in large increases in dividends and income taxes from PDVSA', 'tag': ' '}, {'text': 'During Chávezs presidency from 1999 to 2004, per-capita GDP dropped 1–2 %, but with the help of rising oil prices, the end of the oil strike, and strong consumption growth, recent economic activity under Chávez has been robust.', 'tag': ' '}, {'text': 'GDP growth rates were 18% in 2004, 9% in 2005, and 9.6% in the first half of 2006, with the private sector growing at a 10.3% clip.', 'tag': ' '}, {'text': 'From 2004 to the first half of 2006, non-petroleum sectors of the economy showed growth rates greater than 10%.', 'tag': ' '}, {'text': 'Datos reports real income grew by 137% between 2003 and Q1 2006.', 'tag': ' '}, {'text': 'Official poverty figures dropped by 4.9%.', 'tag': ' '}, {'text': 'Some economists argue that this subsidized growth could stop if oil prices decline, and some social scientists and economists claim that the governments reported poverty figures have not fallen in proportion to the countrys vast oil revenues in the last two years.', 'tag': '+'}, {'text': 'The president of Datos said that, although his surveys showed rising incomes because of subsidies and grants, the number of people in the worst living conditions has grown.', 'tag': ' '}, {'text': '', 'tag': '+'}, {'text': 'without being able to improve their housing, education level, and social mobility,\" he said.', 'tag': '+'}, {'text': '\"Rather than help  become stakeholders in the economic system, what  done is distribute as much oil wealth as possible in missions and social programs.', 'tag': '*'}, {'text': '\"The poor of Venezuela are living much better lately and have increased their purchasing power . . . \"', 'tag': '+'}, {'text': 'According to government figures, unemployment has dropped by 7% since the start of Chávezs presidency.', 'tag': ' '}, {'text': 'Venezuelas rate of unemployment dropped to 10% in February 2006 from the 2003 high of 20%, which occurred during a two-month strike and business lockout that shut down the countrys oil industry.', 'tag': ' '}, {'text': 'However, some economists argue that recent job creation may not be permanent, for it relies on an expanded public payroll that will become unaffordable if oil prices fall.', 'tag': ' '}, {'text': 'According to the Venezuelan government, an unemployed person is a citizen above the age of 15 who has been seeking employment for more than one week.', 'tag': ' '}, {'text': 'But, according to The Boston Globe, critics say that the government defines \"informal workers, such as street vendors, as employed, and exclud adults who are studying in missions from unemployment numbers.\"', 'tag': ' '}, {'text': 'Critics also point to figures released by the president of the Venezuelan National Statistics Institute, Elías Eljuri, which showed that poverty had actually risen by more than 10 percentage points under Chávez (to 53% in 2004).', 'tag': ' '}, {'text': 'Chávez called for a new measure of poverty, a \"social well-being index\".', 'tag': '+'}, {'text': 'Under this new definition, poverty registers at 40 percent.', 'tag': ' '}, {'text': 'Eljuri denies changing the statistic and claims it is entirely income excluding social programs.', 'tag': ' '}, {'text': 'The World Bank calculated a 10% drop in poverty', 'tag': ' '}, {'text': 'According to the Banco Central de Venezuela, inflation dropped from 29.9% to 14.4%.', 'tag': ' '}, {'text': 'During 2005, imported goods were cheaper than commodities made in Venezuela; variability in the price of goods was linked to import performance and exchange stability.', 'tag': ' '}, {'text': 'In the second quarter of 2006 gross fixed investment was the highest ever recorded by the Banco Central de Venezuela since it started tracking the statistic in 1997', 'tag': ' '}, {'text': 'While the Venezuelan Government enjoys a windfall of oil profits, the business environment is risky and discourages investment, according to El Universal.', 'tag': ' '}, {'text': 'As measured by prices on local stock exchanges, investors are willing to pay on average 16.3 years worth of earnings to invest in Colombia companies, 15.9 in Chile, 11.1 in Mexico, and 10.7 in Brazil, but only 5.8 in Venezuela.', 'tag': ' '}, {'text': 'The World Economic Forum ranked Venezuela as 82 out of 102 countries on a measure of how favorable investment is for institutions.', 'tag': ' '}, {'text': 'In Venezuela, an investor needs an average of 119 days and must complete 14 different proceedings to organize a business, while the avarage in OECD countries is 30 days and six proceedings', 'tag': ' '}, {'text': 'Public spending in Venezuela has broken unprecedented records as measured by local currency Central Bank debt, which could increase inflation', 'tag': ' '}, {'text': 'Chávez has refocused Venezuelan foreign policy on Latin American economic and social integration by enacting bilateral trade and reciprocal aid agreements, including his so-called \"oil diplomacy\".', 'tag': '+'}, {'text': 'Chávez stated that Venezuela has \"a strong oil card to play on the geopolitical stage . . .\"', 'tag': '+'}, {'text': 'He said, \"It is a card that we are going to play with toughness against the toughest country in the world, the United States.\"', 'tag': '+'}, {'text': 'Chávez has focused on a variety of multinational institutions to promote his vision of Latin American integration, including Petrocaribe, Petrosur, and TeleSUR.', 'tag': ' '}, {'text': 'Bilateral trade relationships with other Latin American countries have also played a major role in his policy, with Chávez increasing arms purchases from Brazil, forming oil-for-expertise trade arrangements with Cuba, funding an ex gratia oil pipeline built to provide discounted natural gas to Colombia, and creating unique barter arrangements that exchange Venezuelan petroleum for cash-strapped Argentinas meat and dairy products.', 'tag': ' '}, {'text': 'Chávez also participates in the United Nations Friends groups for Haiti, and is pursuing efforts to join and engage the Mercosur trade bloc to expand the hemispheres trade integration prospects', 'tag': ' '}, {'text': 'Abroad, Chávez regularly portrays his movements objectives as being diametrically opposed to \"neocolonialism\" and \"neoliberalism\".', 'tag': '+'}, {'text': 'Chávez has, for example, denounced U.S. foreign policy regarding areas such as Iraq, Haiti, and the Free Trade Area of the Americas.', 'tag': ' '}, {'text': 'Chávezs warm and public friendship with Cuban President Fidel Castro has markedly compromised the U.S. policy of isolating Cuba diplomatically and economically.', 'tag': ' '}, {'text': 'Long-standing ties between the U.S. and Venezuelan militaries were also severed by Chávez.', 'tag': ' '}, {'text': 'Moreover, his stance as an OPEC price hawk has made him unpopular in the United States.', 'tag': ' '}, {'text': 'In 2000, Chávez made a ten-day tour of OPEC countries in a bid to promote his policies, becoming the first head of state to meet Saddam Hussein since the Gulf War.', 'tag': '+'}, {'text': 'Chávezs foreign policy conduct and anti-Bush rhetoric has occasionally reached the level of personal attacks.', 'tag': ' '}, {'text': 'Chávez once referred to U.S. President George W. Bush as a pendejo (\"dumbass\"), and constantly refers to him as Míster Danger.', 'tag': '+'}, {'text': 'In a later speech, he made personal remarks regarding Condoleezza Rice, referring to her as a \"complete illiterate\" when it comes to comprehending Latin America.', 'tag': '+'}, {'text': 'On September 20, 2006 Chavez called Bush \"the devil\".', 'tag': '+'}, {'text': 'After Hurricane Katrina battered the United States’ Gulf Coast in late 2005, the Chávez administration was the first foreign government to offer aid to the devastated regions.', 'tag': ' '}, {'text': 'The Bush administration opted to refuse this aid.', 'tag': ' '}, {'text': 'Later during the winter of 2005, various officials in the Northeastern United States signed an agreement with Venezuela to provide discounted heating oil to low income families', 'tag': ' '}, {'text': 'There have also been heated disputes between Chávez and other Latin American leaders, including one with Mexican President Vicente Fox over what Chávez alleged was Foxs support of U.S. trade interests.', 'tag': ' '}, {'text': 'The dispute resulted in a strained diplomatic relationship between the two countries.', 'tag': ' '}, {'text': 'Another diplomatic row with Colombia, referred to as the Rodrigo Granda affair, occurred in 2004, after the kidnap of Rodrigo Granda, a high ranking member of the political wing of the FARC.', 'tag': ' '}, {'text': 'In 2001, a dissension with Peru occurred over suspicions that Chávezs administration was protecting and hiding Vladimiro Montesinos, a former Peruvian intelligence director under the Alberto Fujimori administration, wanted for corruption.', 'tag': ' '}, {'text': 'Between January and March of 2006, Chávez commented on the candidates of the 2006 Peruvian Presidential election, openly backing Ollanta Humala while referring to Alan García as a \"thief\" and a \"crook\".', 'tag': ' '}, {'text': 'The Peruvian government therefore admonished Chávez for interfering in Perus affairs', 'tag': ' '}, {'text': 'On August 3, 2006 Chávez ordered the Venezuelan chargé daffaires to Israel to return from Tel Aviv to Venezuela, protesting the 2006 Israel-Lebanon conflict.', 'tag': ' '}, {'text': 'Israel responded by recalling its Israeli ambassador to Venezuela.', 'tag': ' '}, {'text': 'Chávez made statements comparing Israel to Hitler and their actions to the Holocaust, and blaming the United States', 'tag': ' '}, {'text': 'He was strongly criticized for trivializing the Holocaust', 'tag': ' '}, {'text': 'On September 19, 2006, Chávez addressed the UN General Assembly, drawing some applause and tentative giggling by calling George Bush \"the devil\".', 'tag': '+'}, {'text': 'Chávez accused the U.S. government of \"domination, exploitation and pillage of peoples of the world\".', 'tag': '+'}, {'text': 'At the start of his talk, Chavez held up a book by American writer Noam Chomsky, \"Hegemony or Survival: Americas Quest for Global Dominance,\" and recommended it to everyone in the General Assembly, as well as to the American people.', 'tag': ' '}, {'text': 'A number of prominent American politicians like Nancy Pelosi and Charles Rangel--vocal opponents of President Bush, condemned Chavezs repeatedly calling the President \"the devil.\"', 'tag': '+'}, {'text': '\"The people of the United States should read this .. instead of the watching Superman movies,\" Chavez later told reporters', 'tag': ' '}, {'text': 'Chavez also said \"it was a shame\" that he did not get the chance to meet with Chomsky before he died (as of 9/23/2006 Noam Chomsky is still alive)', 'tag': '+'}, {'text': 'Even before the April 2002 coup, many owners, managers, and commentators working for the five major private mainstream television networks and largest mainstream newspapers had stated their opposition to Chávezs policies.', 'tag': ' '}, {'text': 'These media outlets have accused the Chávez administration of intimidating their journalists using specially-dispatched gangs.', 'tag': ' '}, {'text': 'Chávez in turn alleges that the owners of these networks have primary allegiance not to Venezuela but to the United States, and that they seek the advancement of what he terms neoliberalism via corporate propaganda.', 'tag': '+'}, {'text': 'Throughout his presidency, Chávez has hosted the live talk show known as Aló Presidente (\"Hello, President!\").', 'tag': '+'}, {'text': 'The show broadcasts in varying formats on Venezolana de Televisión (VTV—Venezuelan State Television) each Sunday at 11:00 AM.', 'tag': ' '}, {'text': 'The show features Chávez addressing topics of the day, taking phone calls and live questions from both the studio and broadcast audience, and touring locations where government social welfare programs are active.', 'tag': ' '}, {'text': 'Additionally, on July 25, 2005, Chávez inaugurated TeleSUR, a proposed pan-American homologue of Al Jazeera that seeks to challenge the present domination of Latin American television news by Univision and the United States-based CNN en Español.', 'tag': ' '}, {'text': 'Chávezs media policies have contributed to elevated tensions between the United States and Venezuela', 'tag': ' '}, {'text': 'Chávezs version of Bolivarianism, although drawing heavily from Simón Bolívars ideals, was also influenced by the writings of Marxist historian Federico Brito Figueroa.', 'tag': ' '}, {'text': 'Chávez was well acquainted with the various traditions of Latin American socialism espoused by Jorge Eliécer Gaitán and Salvador Allende and from a young age by the Cuban revolutionary doctrine of Che Guevara and Fidel Castro.', 'tag': ' '}, {'text': 'Other key influences on Chávezs political philosophy include Ezequiel Zamora and Simón Rodríguez.', 'tag': ' '}, {'text': 'Other indirect influences on Chávezs political philosophy are the writings of Noam Chomsky and the teachings of Jesus as recorded in the Bible (Chávez describes Jesus as the worlds first socialist.)', 'tag': ' '}, {'text': 'Although Chávez himself refers to his ideology as Bolivarianismo (\"Bolivarianism\"), Chávezs supporters and opponents in Venezuela refer to themselves as being either for or against \"chavismo.\"', 'tag': '+'}, {'text': 'Thus, Chávez supporters refer to themselves not as \"Bolivarians\" or \"Bolivarianists,\" but rather as \"chavistas.\"', 'tag': '+'}, {'text': 'Later in his life, Chávez would acknowledge the role that democratic socialism (a form of socialism that emphasizes grassroots democratic participation) plays in Bolivarianism.', 'tag': ' '}, {'text': 'Because his Bolivarianism relies on popular support, Chávez has organized the \"Bolivarian Circles,\" which he cites as examples of grassroots and participatory democracy.', 'tag': '+'}, {'text': 'The circles are charged with such tasks as neighborhood beautification, mass mobilization, lending support to small businesses, and providing basic social services, but critics are suspect of their independence and aims', 'tag': ' '}, {'text': 'With respect to domestic policies, critics report that both corruption and crime are rampant.', 'tag': ' '}, {'text': 'They also cite a failing infrastructure and public hospitals.', 'tag': ' '}, {'text': 'Criticism from Chávez supporters arises from reports that Chávez is not fulfilling his major campaign pledges with respect to labor and land reform', 'tag': ' '}, {'text': 'Critics have also charged that the Chávez government has engaged in \"gigantic fraud\" during the 2004 recall referendum.', 'tag': '+'}, {'text': 'Human rights organizations Amnesty International and Human Rights Watch have documented numerous human rights violations in Venezuela, although these have usually been reports of police misbehaviour and brutality rather than criticism of Chávezs policies.', 'tag': ' '}, {'text': 'The Venezuelan police have been criticised for human rights abuse for long before Chávez gained power.', 'tag': ' '}, {'text': 'The United States government claims that his cooperation in the War on Terrorism is negligible or purposely indifferent with regards to the FARC and ELN; nonetheless, the U.S. government says there is no evidence of a direct link between terrorism and Chávez', 'tag': ' '}, {'text': 'Several public figures have even gone so far as to call for the assassination of Chávez, most notably US Conservative Christian televangelist Pat Robertson.', 'tag': ' '}, {'text': 'Other such requests have been expressed by Venezuelan actor Orlando Urdaneta and former president of Venezuela Carlos Andrés Pérez.', 'tag': ' '}, {'text': 'The US Ambassador to Venezuela between 2001 and 2004, Charles Shapiro, also reported to the Chávez administration two potential assassination plots', 'tag': ' '}, {'text': 'Chavez has been accussed of concentrating power of judicial and legislative branches', 'tag': ' '}, {'text': 'Hugo Chávez has been married twice.', 'tag': ' '}, {'text': 'He first wedded Nancy Colmenares, a woman from a poor family originating in Chávezs own hometown of Sabaneta.', 'tag': ' '}, {'text': 'Chávez and Colmenares remained married for eighteen years, during which time they had three children: Rosa Virginia, María Gabriela, and Hugo Rafael.', 'tag': ' '}, {'text': 'They separated soon after Chávezs 1992 coup attempt.', 'tag': ' '}, {'text': 'During his first marriage, Chávez also had an affair with young historian Herma Marksman; they had a relationship which lasted nine years, but ended.', 'tag': ' '}, {'text': 'Chávez is separated from his second wife, journalist Marisabel Rodríguez de Chávez.', 'tag': ' '})\n"
     ]
    }
   ],
   "source": [
    "# Run (main)\n",
    "old_ver = addMark(train_pt[0]['document'])\n",
    "new_ver = addMark(train_pt[0]['summary'])\n",
    "old, new = get_sentence_diff(fixMark(old_ver), fixMark(new_ver))\n",
    "\n",
    "# print('Old Version')\n",
    "# print(old_ver)\n",
    "# print('\\nNew Version')\n",
    "# print(new_ver)\n",
    "# print('-----------------')\n",
    "# print('\\nAfter Parsing')\n",
    "# print(old)\n",
    "# print('--')\n",
    "print(new)"
   ]
  },
  {
   "cell_type": "code",
   "execution_count": null,
   "id": "34fadaab-599e-4ebc-9032-c4eb2dee5642",
   "metadata": {},
   "outputs": [],
   "source": [
    "keep, add, sub = [], [], []\n",
    "for idx in range(len(train_pt)):\n",
    "# for idx in range(0): \n",
    "    old_ver = addMark(train_pt[idx]['document'])\n",
    "    new_ver = addMark(train_pt[idx]['summary'])\n",
    "    old, new = get_sentence_diff(fixMark(old_ver), fixMark(new_ver))\n",
    "    ke, ad, su = 0, 0, 0\n",
    "    for i in range(len(new)):\n",
    "        if new[i]['tag']==' ': ke+=1\n",
    "        elif new[i]['tag']=='+': ad+=1\n",
    "        else: su+=1\n",
    "    keep.append(ke)\n",
    "    add.append(ad)\n",
    "    sub.append(su)"
   ]
  },
  {
   "cell_type": "code",
   "execution_count": 34,
   "id": "8f52b912-03ba-40a6-ad31-fec4960eb286",
   "metadata": {},
   "outputs": [],
   "source": [
    "def Labeling(new):\n",
    "    labeled_data = []\n",
    "    for idx in range(len(new)):\n",
    "        if new[idx]['tag']==' ' and new[idx]['text']!='':\n",
    "            labeled_data.append(' [KEEP] ' + new[idx]['text'] + ' [/KEEP]')\n",
    "        # elif new[idx]['tag']=='-' and new[idx]['text']!='':\n",
    "        #     labeled_data.append(' [RM] '+new[idx]['text']+' [/RM]')\n",
    "        elif new[idx]['tag']=='+' and new[idx]['text']!='': \n",
    "            labeled_data.append(' [ADD] '+new[idx]['text']+' [/ADD]')\n",
    "        # elif new[idx]['tag']=='*' and new[idx]['text']!='':\n",
    "        else:\n",
    "            labeled_data.append(' [SUB] '+new[idx]['text']+' [/SUB]')\n",
    "    return ''.join(labeled_data)"
   ]
  },
  {
   "cell_type": "code",
   "execution_count": 35,
   "id": "f5fe6d0e-c78e-4446-ad1e-d867197bc045",
   "metadata": {},
   "outputs": [],
   "source": [
    "### Testing Area"
   ]
  },
  {
   "cell_type": "code",
   "execution_count": null,
   "id": "39b0315c-4dc2-4c7f-8752-be4275ffd8ec",
   "metadata": {},
   "outputs": [],
   "source": [
    "old_ver = addMark(train_pt[1]['document'])\n",
    "new_ver = addMark(train_pt[1]['summary'])\n",
    "old, new = get_sentence_diff(fixMark(old_ver), fixMark(new_ver))\n",
    "output = Labeling(new)\n",
    "output"
   ]
  },
  {
   "cell_type": "code",
   "execution_count": null,
   "id": "65b65e12-5033-4020-bae3-bed11145de9a",
   "metadata": {},
   "outputs": [],
   "source": [
    "# For all clusters\n",
    "keep_all, add_all, sub_all = [], [], []\n",
    "for idx in range(5):\n",
    "    old_ver = addMark(train_pt[idx]['document'])\n",
    "    new_ver = addMark(train_pt[idx]['summary'])\n",
    "    old, new = get_sentence_diff(fixMark(old_ver), fixMark(new_ver))\n",
    "    add, sub, keep = 0, 0, 0\n",
    "    for idd in range(len(new)):\n",
    "        if new[idd]['tag']==' ' and new[idd]['text']!='':\n",
    "            keep+=1\n",
    "        elif new[idd]['tag']=='+' and new[idd]['text']!='': \n",
    "            add+=1\n",
    "        elif new[idd]['tag']=='#' and new[idd]['text']!='':\n",
    "            sub+=1\n",
    "    keep_all.append(keep)\n",
    "    add_all.append(add)\n",
    "    sub_all.append(sub)"
   ]
  },
  {
   "cell_type": "code",
   "execution_count": null,
   "id": "8d4a4e0b-6db4-4902-8228-e06f1aa63056",
   "metadata": {},
   "outputs": [],
   "source": [
    "def get_changes(old_doc, new_doc):\n",
    "    new_document = []\n",
    "    old_document = []\n",
    "    new_sentences = []\n",
    "    removed_sentences = []\n",
    "\n",
    "    same_sentences = []\n",
    "    changed_sentence_pairs = []\n",
    "\n",
    "    for s_idx, (s_old, s_new) in enumerate(zip(old_doc, new_doc)):\n",
    "        ###\n",
    "        if s_old['text'].strip() != '':\n",
    "            old_document.append(s_old['text'])\n",
    "        if s_new['text'].strip() != '':\n",
    "            new_document.append(s_new['text'])\n",
    "\n",
    "        ###\n",
    "        if s_old['tag'] == '-' and s_new['tag'] == '+':\n",
    "            changed_sentence_pairs.append((s_idx, (s_old['text'], s_new['text'])))\n",
    "\n",
    "        ###\n",
    "        if s_old['tag'] == ' ' and s_new['tag'] == '+':\n",
    "            new_sentences.append(s_new['text'])\n",
    "\n",
    "        ###\n",
    "        if s_new['tag'] == ' ' and s_old['tag'] == '-':\n",
    "            removed_sentences.append(s_old['text'])\n",
    "\n",
    "        if s_new['tag'] == ' ' and s_old['tag'] == ' ':\n",
    "            same_sentences.append(s_old['text'])\n",
    "\n",
    "    return {\n",
    "        'docs': {'old_doc': old_document,\n",
    "                 'new_doc': new_document,\n",
    "                 },\n",
    "        'sentences': {'added_sents': new_sentences,\n",
    "                      'removed_sents': removed_sentences,\n",
    "                      'changed_sent_pairs': changed_sentence_pairs\n",
    "                      }\n",
    "    }"
   ]
  },
  {
   "cell_type": "code",
   "execution_count": null,
   "id": "545be0c0-20d6-49f9-ac46-780433b6a92c",
   "metadata": {},
   "outputs": [],
   "source": [
    "from difflib import ndiff\n",
    "old_txt = 'I like it. But its not happened'\n",
    "new_txt = 'I dont like it. Its happened!'\n",
    "\n",
    "l_old, l_new = old_txt.split('. '), new_txt.split('. ')\n",
    "# get_word_diff_ratio(old_txt, new_txt)\n",
    "diffs = list(difflib.ndiff(l_old, l_new))\n",
    "diffs"
   ]
  },
  {
   "cell_type": "code",
   "execution_count": null,
   "id": "8f6d2b8b-579f-47c4-80cd-9fe1fb5d60a0",
   "metadata": {},
   "outputs": [],
   "source": []
  }
 ],
 "metadata": {
  "kernelspec": {
   "display_name": "data-venv",
   "language": "python",
   "name": "data-venv"
  },
  "language_info": {
   "codemirror_mode": {
    "name": "ipython",
    "version": 3
   },
   "file_extension": ".py",
   "mimetype": "text/x-python",
   "name": "python",
   "nbconvert_exporter": "python",
   "pygments_lexer": "ipython3",
   "version": "3.8.8"
  }
 },
 "nbformat": 4,
 "nbformat_minor": 5
}
